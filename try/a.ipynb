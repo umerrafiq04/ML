{
 "cells": [
  {
   "cell_type": "code",
   "execution_count": 24,
   "metadata": {},
   "outputs": [
    {
     "name": "stdout",
     "output_type": "stream",
     "text": [
      "[[-1, 0, 1], [-1, 2, -1], [0, 1, -1]]\n"
     ]
    }
   ],
   "source": [
    "def a(nums):\n",
    "    z = []\n",
    "    for i in range(len(nums)):\n",
    "        for j in range(i + 1, len(nums)):\n",
    "            for k in range(j + 1, len(nums)):\n",
    "                if nums[i] + nums[j] + nums[k] == 0:\n",
    "                    t = [nums[i], nums[j], nums[k]]\n",
    "                    # Check if the triplet is already in the result list\n",
    "                    if t not in z:\n",
    "                        z.append(t)\n",
    "    return z\n",
    "\n",
    "# Example usage\n",
    "nums = [-1, 0, 1, 2, -1, -4]\n",
    "print(a(nums))  # Output: [[-1, 0, 1], [-1, -1, 2]]\n"
   ]
  },
  {
   "cell_type": "code",
   "execution_count": 25,
   "metadata": {},
   "outputs": [
    {
     "name": "stdout",
     "output_type": "stream",
     "text": [
      "[[-1, 0, 1], [-1, -1, 2]]\n"
     ]
    }
   ],
   "source": [
    "def a(nums):\n",
    "    z = []\n",
    "    for i in range(len(nums)):\n",
    "        for j in range(i + 1, len(nums)):\n",
    "            for k in range(j + 1, len(nums)):\n",
    "                if nums[i] + nums[j] + nums[k] == 0:\n",
    "                    t = [nums[i], nums[j], nums[k]]\n",
    "                    # Check if the triplet is already in the result list\n",
    "                    t.sort()\n",
    "                    if t not in z:\n",
    "                        z.append(t)\n",
    "    return z\n",
    "\n",
    "# Example usage\n",
    "nums = [-1, 0, 1, 2, -1, -4]\n",
    "print(a(nums))  # Output: [[-1, 0, 1], [-1, -1, 2]]\n"
   ]
  },
  {
   "cell_type": "code",
   "execution_count": 30,
   "metadata": {},
   "outputs": [
    {
     "name": "stdout",
     "output_type": "stream",
     "text": [
      "[1, 3, 12, 0, 0]\n"
     ]
    }
   ],
   "source": [
    "\n",
    "def moveZeroes(nums):\n",
    "        \"\"\"\n",
    "        :type nums: List[int]\n",
    "        :rtype: None Do not return anything, modify nums in-place instead.\n",
    "        \"\"\"\n",
    "        zeros=[]\n",
    "        others=[]\n",
    "        for i in nums:\n",
    "                if i == 0:\n",
    "                        zeros.append(i)\n",
    "                else:\n",
    "                        others.append(i)\n",
    "        others.extend(zeros)                \n",
    "        return others\n",
    "\n",
    "\n",
    "\n",
    "nums=[0,1,0,3,12]\n",
    "print(moveZeroes(nums))"
   ]
  },
  {
   "cell_type": "code",
   "execution_count": 31,
   "metadata": {},
   "outputs": [
    {
     "data": {
      "text/plain": [
       "[1, 2]"
      ]
     },
     "execution_count": 31,
     "metadata": {},
     "output_type": "execute_result"
    }
   ],
   "source": [
    "\n",
    "def removeDuplicates(nums):\n",
    "        \"\"\"\n",
    "        :type nums: List[int]\n",
    "        :rtype: int\n",
    "      \"\"\"\n",
    "        k=[]\n",
    "        for i in nums:\n",
    "            if i not in k:\n",
    "                k.append(i)\n",
    "        return k\n",
    "    \n",
    "removeDuplicates([1,1,2])"
   ]
  },
  {
   "cell_type": "code",
   "execution_count": 36,
   "metadata": {},
   "outputs": [
    {
     "name": "stdout",
     "output_type": "stream",
     "text": [
      "{-1: 2, 1: 1, 2: 2, 3: 1, 4: 1}\n"
     ]
    },
    {
     "data": {
      "text/plain": [
       "[-1, 2]"
      ]
     },
     "execution_count": 36,
     "metadata": {},
     "output_type": "execute_result"
    }
   ],
   "source": [
    "def topKFrequent(nums, k):\n",
    "        \"\"\"\n",
    "        :type nums: List[int]\n",
    "        :type k: int\n",
    "        :rtype: List[int]\n",
    "        \"\"\"\n",
    "        top={}\n",
    "        nums.sort()\n",
    "        for i in nums:\n",
    "            t=nums.count(i)\n",
    "            z={i:t}\n",
    "            top.update(z)\n",
    "        \n",
    "        \n",
    "        s=list(top.keys())\n",
    "        s.sort(key=top.get,reverse=True)\n",
    "        print(top)\n",
    "        return s[:k]\n",
    "\n",
    "nums=[4,1,-1,2,-1,2,3]\n",
    "k=2\n",
    "topKFrequent(nums, k)\n",
    "\n",
    "# # top = {'a': 3, 'b': 1, 'c': 2}\n",
    "# s = ['a', 'b', 'c']\n",
    "\n",
    "# # Sorting based on the values in 'top' in descending order\n",
    "# s.sort(key=top.get, reverse=True)\n",
    "\n",
    "# print(s)  # Output: ['a', 'c', 'b']\n"
   ]
  },
  {
   "cell_type": "code",
   "execution_count": 55,
   "metadata": {},
   "outputs": [
    {
     "name": "stdout",
     "output_type": "stream",
     "text": [
      "2\n"
     ]
    },
    {
     "data": {
      "text/plain": [
       "[1, 1, 2, 2, 2, 2, 1]"
      ]
     },
     "execution_count": 55,
     "metadata": {},
     "output_type": "execute_result"
    }
   ],
   "source": [
    "\n",
    "from collections import Counter\n",
    "\n",
    "class Solution(object):\n",
    "    def topKFrequent(self, nums, k):\n",
    "        \"\"\"\n",
    "        :type nums: List[int]\n",
    "        :type k: int\n",
    "        :rtype: List[int]\n",
    "        \"\"\"\n",
    "        # Step 1: Count the frequency of each element in nums\n",
    "        freq_map = Counter(nums)\n",
    "        key=tuple(freq_map.keys)\n",
    "        val=tuple(freq_map.values)\n",
    "        key.sort(key=val.get,reverse=True)\n",
    "        print(key)\n",
    "\n",
    "        \n",
    "        return key\n",
    "nums=[4,1,-1,2,-1,2,3]\n",
    "k=2\n",
    "topKFrequent(nums, k)"
   ]
  },
  {
   "cell_type": "code",
   "execution_count": 50,
   "metadata": {},
   "outputs": [
    {
     "data": {
      "text/plain": [
       "Counter({-1: 2, 2: 2, 4: 1, 1: 1, 3: 1})"
      ]
     },
     "execution_count": 50,
     "metadata": {},
     "output_type": "execute_result"
    }
   ],
   "source": [
    "nums=[4,1,-1,2,-1,2,3]\n",
    "freq_map = Counter(nums)\n",
    "freq_map"
   ]
  },
  {
   "cell_type": "code",
   "execution_count": 2,
   "metadata": {},
   "outputs": [
    {
     "name": "stdout",
     "output_type": "stream",
     "text": [
      "[5, 6, 7, 1, 2, 3, 4]\n"
     ]
    }
   ],
   "source": [
    "nums=[1,2,3,4,5,6,7]\n",
    "k=3\n",
    "nums[:]=nums[-k:]+nums[0:-k]\n",
    "print(nums)"
   ]
  },
  {
   "cell_type": "code",
   "execution_count": 13,
   "metadata": {},
   "outputs": [
    {
     "name": "stdout",
     "output_type": "stream",
     "text": [
      "hey umer whats up\n",
      "['up', 'whats', 'umer', 'hey']\n",
      " up whats umer hey\n"
     ]
    }
   ],
   "source": [
    "arr=\"hey umer whats up\"\n",
    "print(arr)\n",
    "t=arr.split(\" \")\n",
    "t.reverse()\n",
    "print(t)\n",
    "arr=\"\"\n",
    "for i in t:\n",
    "    arr=arr+\" \"+i\n",
    "print(arr)"
   ]
  },
  {
   "cell_type": "code",
   "execution_count": 107,
   "metadata": {},
   "outputs": [
    {
     "name": "stdout",
     "output_type": "stream",
     "text": [
      "['hey', 'umer', 'whats', 'up']\n",
      "['up', 'whats', 'umer', 'hey']\n",
      "upwhatsumerhey\n",
      "[' ', 'p', 'u', ' ', 's', 't', 'a', 'h', 'w', ' ', ' ', ' ', ' ', ' ', ' ', ' ', ' ', ' ', ' ', ' ', ' ', ' ', ' ', ' ', ' ', ' ', ' ', ' ', 'r', 'e', 'm', 'u', ' ', 'y', 'e', 'h', ' ', ' ', ' ', ' ', ' ', ' ', ' ', ' ', ' ', ' ', ' ', ' ', ' ', ' ', ' ', ' ']\n",
      " up whats                   umer hey                \n",
      "z=[' ', 'up', 'whats', ' ', ' ', ' ', ' ', ' ', ' ', ' ', ' ', ' ', ' ', ' ', ' ', ' ', ' ', ' ', ' ', ' ', ' ', 'umer', 'hey', ' ', ' ', ' ', ' ', ' ', ' ', ' ', ' ', ' ', ' ', ' ', ' ', ' ', ' ', ' ', ' ']\n",
      "c=[1, 0, 0, 1, 2, 3, 4, 5, 6, 7, 8, 9, 10, 11, 12, 13, 14, 15, 16, 17, 18, 0, 0, 1, 2, 3, 4, 5, 6, 7, 8, 9, 10, 11, 12, 13, 14, 15, 16]\n",
      "final[' ', 'up', 'whats', ' ', 'umer', 'hey', ' ']\n",
      " upwhats umerhey \n",
      " up whats umer hey \n"
     ]
    }
   ],
   "source": [
    "arr=\"                hey umer                   whats up \"\n",
    "x=arr.split()\n",
    "print(x)\n",
    "x.reverse()\n",
    "print(x)\n",
    "s=\"\"\n",
    "for i in x:\n",
    "    s=s+i\n",
    "print(s)\n",
    "sp=list(arr)\n",
    "sp.reverse()\n",
    "print(sp)\n",
    "z=\"\"\n",
    "k=0\n",
    "\n",
    "for i in range(len(sp)):\n",
    "    if sp[i]==\" \":\n",
    "        z=z+sp[i]\n",
    "    else:\n",
    "        z=z+s[k]\n",
    "        k=k+1\n",
    "print(z)\n",
    "z=z.split(\" \")\n",
    "new=\"\"\n",
    "c=[0]*len(z)\n",
    "j=0\n",
    "a=0\n",
    "for i in z:\n",
    "    if i ==\"\":\n",
    "        c[j]=a+1\n",
    "        a=a+1\n",
    "    else:\n",
    "        c[j]=0\n",
    "        a=0\n",
    "    j=j+1\n",
    "final=[]\n",
    "fn=\"\"\n",
    "for i in range(len(z)):\n",
    "    if z[i]==\"\":\n",
    "        z[i]=\" \"\n",
    "\n",
    "print(f\"z={z}\")\n",
    "print(f\"c={c[:]}\")\n",
    "for i in range(0,len(z)):\n",
    "    if c[i]<=1:\n",
    "        final.append(z[i])\n",
    "print(f\"final{final[:]}\")\n",
    "for i in final:\n",
    "    fn=fn+i\n",
    "print(fn)\n",
    "jk=[]\n",
    "for i in range(len(final)):\n",
    "    if final[i]==\" \":\n",
    "        jk.append(final[i])\n",
    "    elif final[i]!=\" \" and final[i-1]!=\" \":\n",
    "        jk.append(\" \"+final[i])\n",
    "    else:\n",
    "        jk.append(final[i])\n",
    "tata=\"\"\n",
    "for i in jk:\n",
    "    tata=tata+i\n",
    "\n",
    "print(tata)\n",
    "\n",
    "\n",
    "\n"
   ]
  },
  {
   "cell_type": "code",
   "execution_count": 4,
   "metadata": {},
   "outputs": [
    {
     "name": "stdout",
     "output_type": "stream",
     "text": [
      "40\n"
     ]
    }
   ],
   "source": [
    "\n",
    "        "
   ]
  },
  {
   "cell_type": "code",
   "execution_count": 2,
   "metadata": {},
   "outputs": [
    {
     "name": "stdout",
     "output_type": "stream",
     "text": [
      "10\n"
     ]
    }
   ],
   "source": []
  }
 ],
 "metadata": {
  "kernelspec": {
   "display_name": "base",
   "language": "python",
   "name": "python3"
  },
  "language_info": {
   "codemirror_mode": {
    "name": "ipython",
    "version": 3
   },
   "file_extension": ".py",
   "mimetype": "text/x-python",
   "name": "python",
   "nbconvert_exporter": "python",
   "pygments_lexer": "ipython3",
   "version": "3.12.4"
  }
 },
 "nbformat": 4,
 "nbformat_minor": 2
}
