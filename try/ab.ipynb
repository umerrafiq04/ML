{
 "cells": [
  {
   "cell_type": "code",
   "execution_count": 5,
   "metadata": {},
   "outputs": [
    {
     "name": "stdout",
     "output_type": "stream",
     "text": [
      "[-1, 2]\n"
     ]
    }
   ],
   "source": [
    "from collections import Counter\n",
    "\n",
    "def topKFrequent(nums, k):\n",
    "    \"\"\"\n",
    "    :type nums: List[int]\n",
    "    :type k: int\n",
    "    :rtype: List[int]\n",
    "    \"\"\"\n",
    "    # Step 1: Count the frequency of each element in nums\n",
    "    freq_map = Counter(nums)\n",
    "    \n",
    "    # Step 2: Sort the elements by frequency (descending order)\n",
    "    # Use sorted with a custom key to sort based on frequency\n",
    "    sorted_elements = sorted(freq_map.keys(), key=lambda x: freq_map[x], reverse=True)\n",
    "    \n",
    "    # Step 3: Return the top k frequent elements\n",
    "    return sorted_elements[:k]\n",
    "\n",
    "# Example usage\n",
    "nums = [4, 1, -1, 2, -1, 2, 3]\n",
    "k = 2\n",
    "print(topKFrequent(nums, k))  # Output should be [-1, 2]\n"
   ]
  }
 ],
 "metadata": {
  "kernelspec": {
   "display_name": "base",
   "language": "python",
   "name": "python3"
  },
  "language_info": {
   "codemirror_mode": {
    "name": "ipython",
    "version": 3
   },
   "file_extension": ".py",
   "mimetype": "text/x-python",
   "name": "python",
   "nbconvert_exporter": "python",
   "pygments_lexer": "ipython3",
   "version": "3.12.4"
  }
 },
 "nbformat": 4,
 "nbformat_minor": 2
}
