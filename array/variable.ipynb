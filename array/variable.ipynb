{
 "cells": [
  {
   "cell_type": "markdown",
   "metadata": {},
   "source": [
    "largest subarray of sum k"
   ]
  },
  {
   "cell_type": "code",
   "execution_count": 6,
   "metadata": {},
   "outputs": [
    {
     "data": {
      "text/plain": [
       "4"
      ]
     },
     "execution_count": 6,
     "metadata": {},
     "output_type": "execute_result"
    }
   ],
   "source": [
    "arr=[4,1,1,1,2,3,5]\n",
    "k=5\n",
    "\n",
    "i=j=0\n",
    "summ=0\n",
    "maxlen=0\n",
    "while j<len(arr):\n",
    "    summ+=arr[j]\n",
    "    if summ==k:\n",
    "        maxlen=max(maxlen,j-i+1)\n",
    "    if summ>k:\n",
    "        while summ>k:\n",
    "         summ-=arr[i]\n",
    "         i+=1\n",
    "    j+=1\n",
    "maxlen\n"
   ]
  },
  {
   "cell_type": "code",
   "execution_count": 57,
   "metadata": {},
   "outputs": [
    {
     "data": {
      "text/plain": [
       "0"
      ]
     },
     "execution_count": 57,
     "metadata": {},
     "output_type": "execute_result"
    }
   ],
   "source": [
    "# Kadane's Algorithm\n",
    "arr=[-7 ,-8 ,-16, -4 ,-8, -5, -7, -11, -10, -12, -4, -6, -4, -16, -10 ]\n",
    "summ=0\n",
    "i=j=0\n",
    "ms=-9999\n",
    "while j<len(arr):\n",
    "    summ+=arr[j]\n",
    "    if summ<0:\n",
    "        summ=0\n",
    "    ms=max(summ,ms)\n",
    "    j+=1\n",
    "ms"
   ]
  },
  {
   "cell_type": "code",
   "execution_count": 47,
   "metadata": {},
   "outputs": [
    {
     "name": "stdout",
     "output_type": "stream",
     "text": [
      "25\n"
     ]
    }
   ],
   "source": [
    "s=\"aaaaaabbbbbbbbbbbbbcccccc\"\n",
    "n=len(s)\n",
    "k=3\n",
    "count=0\n",
    "temp=[]\n",
    "i=j=0\n",
    "ml=0\n",
    "while j<n:\n",
    "    if s[j] not in temp:\n",
    "        count+=1\n",
    "    temp.append(s[j])\n",
    "    if count==k:\n",
    "        ml=max(ml,j-i+1)\n",
    "    if count > k:\n",
    "        while count>k:\n",
    "            temp.pop(0)\n",
    "            if s[i] not in temp:\n",
    "                count-=1\n",
    "            i+=1\n",
    "    j+=1\n",
    "print(ml)\n",
    "            "
   ]
  },
  {
   "cell_type": "markdown",
   "metadata": {},
   "source": [
    "frequency method"
   ]
  },
  {
   "cell_type": "code",
   "execution_count": 49,
   "metadata": {},
   "outputs": [
    {
     "data": {
      "text/plain": [
       "25"
      ]
     },
     "execution_count": 49,
     "metadata": {},
     "output_type": "execute_result"
    }
   ],
   "source": [
    "s=\"aaaaaabbbbbbbbbbbbbcccccc\"\n",
    "n=len(s)\n",
    "k=3\n",
    "count=0\n",
    "i=j=0\n",
    "ml=0\n",
    "d=dict()  \n",
    "while j<len(s):\n",
    "    d[s[j]]=d.get(s[j],0)+1\n",
    "    if len(d)==k:\n",
    "        ml=max(ml,j-i+1)\n",
    "    if len(d)>k:\n",
    "        while len(d)>k:\n",
    "            d[s[i]]=d.get(s[i])-1\n",
    "            if d[s[i]]==0:\n",
    "                del d[s[i]]\n",
    "            i+=1\n",
    "    j+=1\n",
    "ml"
   ]
  },
  {
   "cell_type": "code",
   "execution_count": 44,
   "metadata": {},
   "outputs": [
    {
     "name": "stdout",
     "output_type": "stream",
     "text": [
      "{'f': 1, 'i': 1, 'o': 1}\n"
     ]
    }
   ],
   "source": [
    "s = \"abcdefgihisdfsafio\"\n",
    "n = len(s)\n",
    "k = 3\n",
    "count = 0\n",
    "i = j = 0\n",
    "ml = 0\n",
    "d = dict()\n",
    "\n",
    "while j < len(s):\n",
    "    d[s[j]] = d.get(s[j], 0) + 1\n",
    "\n",
    "    # When window has exactly k distinct characters, update ml\n",
    "    if len(d) == k:\n",
    "        ml = max(ml, j - i + 1)\n",
    "\n",
    "    # If window has more than k distinct characters, shrink it\n",
    "    while len(d) > k:\n",
    "        d[s[i]] -= 1\n",
    "        if d[s[i]] == 0:\n",
    "            del d[s[i]]\n",
    "        i += 1\n",
    "\n",
    "    j += 1\n",
    "\n",
    "# Output the final dictionary\n",
    "print(d)\n"
   ]
  },
  {
   "cell_type": "code",
   "execution_count": null,
   "metadata": {},
   "outputs": [],
   "source": []
  },
  {
   "cell_type": "code",
   "execution_count": null,
   "metadata": {},
   "outputs": [],
   "source": []
  },
  {
   "cell_type": "code",
   "execution_count": null,
   "metadata": {},
   "outputs": [],
   "source": []
  }
 ],
 "metadata": {
  "kernelspec": {
   "display_name": "base",
   "language": "python",
   "name": "python3"
  },
  "language_info": {
   "codemirror_mode": {
    "name": "ipython",
    "version": 3
   },
   "file_extension": ".py",
   "mimetype": "text/x-python",
   "name": "python",
   "nbconvert_exporter": "python",
   "pygments_lexer": "ipython3",
   "version": "3.12.4"
  }
 },
 "nbformat": 4,
 "nbformat_minor": 2
}
