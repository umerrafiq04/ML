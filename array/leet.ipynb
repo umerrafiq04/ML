{
 "cells": [
  {
   "cell_type": "code",
   "execution_count": 10,
   "metadata": {},
   "outputs": [
    {
     "name": "stdout",
     "output_type": "stream",
     "text": [
      "{'x': 1, 'y': 1, 'z': 1}\n",
      "this is the string with unique characters={'x': 1, 'y': 1, 'z': 1}\n",
      "{'y': 1, 'z': 2}\n",
      "{'z': 2, 'a': 1}\n",
      "{'z': 2, 'a': 1}\n"
     ]
    },
    {
     "data": {
      "text/plain": [
       "1"
      ]
     },
     "execution_count": 10,
     "metadata": {},
     "output_type": "execute_result"
    }
   ],
   "source": [
    "def countGoodSubstrings(s):\n",
    "        d=dict()\n",
    "        i=j=0\n",
    "        final=0\n",
    "        while j<len(s):\n",
    "            d[s[j]] = d.get(s[j], 0) + 1\n",
    "            \n",
    "            if j-i+1==3:\n",
    "                print(d)\n",
    "                if len(d)==3:\n",
    "                    print(f\"this is the string with unique characters={d}\")\n",
    "                    final+=1\n",
    "                d[s[i]]-=1\n",
    "                if d[s[i]]==0:\n",
    "                    d.pop(s[i])\n",
    "                i+=1\n",
    "            j+=1\n",
    "        return final\n",
    "countGoodSubstrings(\"xyzzaz\")"
   ]
  },
  {
   "cell_type": "code",
   "execution_count": null,
   "metadata": {},
   "outputs": [],
   "source": []
  },
  {
   "cell_type": "code",
   "execution_count": null,
   "metadata": {},
   "outputs": [],
   "source": []
  }
 ],
 "metadata": {
  "kernelspec": {
   "display_name": "base",
   "language": "python",
   "name": "python3"
  },
  "language_info": {
   "codemirror_mode": {
    "name": "ipython",
    "version": 3
   },
   "file_extension": ".py",
   "mimetype": "text/x-python",
   "name": "python",
   "nbconvert_exporter": "python",
   "pygments_lexer": "ipython3",
   "version": "3.12.4"
  }
 },
 "nbformat": 4,
 "nbformat_minor": 2
}
