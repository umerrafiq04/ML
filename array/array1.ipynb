{
 "cells": [
  {
   "cell_type": "code",
   "execution_count": 2,
   "metadata": {},
   "outputs": [
    {
     "data": {
      "text/plain": [
       "18"
      ]
     },
     "execution_count": 2,
     "metadata": {},
     "output_type": "execute_result"
    }
   ],
   "source": [
    "arr=[2,3,5,2,9,7,1]\n",
    "def window(k,arr):\n",
    "    max=0\n",
    "    for i in range(len(arr)-k):\n",
    "        if arr[i]+arr[i+1]+arr[i+2]>max:\n",
    "            max=arr[i]+arr[i+1]+arr[i+2]\n",
    "    return max\n",
    "window(3,arr)\n"
   ]
  },
  {
   "cell_type": "markdown",
   "metadata": {},
   "source": [
    "max sum subarray of len k"
   ]
  },
  {
   "cell_type": "code",
   "execution_count": 4,
   "metadata": {},
   "outputs": [
    {
     "name": "stdout",
     "output_type": "stream",
     "text": [
      "18\n"
     ]
    }
   ],
   "source": [
    "arr=[2,3,5,2,9,7,1]\n",
    "i=j=0\n",
    "sum=0\n",
    "maxx=0\n",
    "k=3\n",
    "while(j<len(arr)):\n",
    "    sum+=arr[j]\n",
    "    if j-i+1<k:\n",
    "        j+=1\n",
    "    elif j-i+1==k:\n",
    "        maxx=max(sum,maxx)\n",
    "        sum=sum-arr[i]\n",
    "        i+=1\n",
    "        j+=1\n",
    "print(maxx)\n",
    "\n"
   ]
  },
  {
   "cell_type": "markdown",
   "metadata": {},
   "source": [
    "max len of subarray with sum=x"
   ]
  },
  {
   "cell_type": "code",
   "execution_count": 13,
   "metadata": {},
   "outputs": [
    {
     "name": "stdout",
     "output_type": "stream",
     "text": [
      "3\n"
     ]
    }
   ],
   "source": [
    "Tsum=3\n",
    "arr=[1,2,7,4,3,1,1,1]\n",
    "maxlen=0\n",
    "k=1\n",
    "i=j=0\n",
    "sum=0\n",
    "while j<len(arr):\n",
    "    sum+=arr[j]\n",
    "    if j-i+1<k:\n",
    "        j+=1\n",
    "    elif sum==Tsum:\n",
    "        maxlen = max(maxlen, k)\n",
    "        sum=0\n",
    "        k+=1\n",
    "        i=0\n",
    "        j=0\n",
    "    elif j-i+1==k:\n",
    "        sum=sum-arr[i]\n",
    "        i+=1\n",
    "        j+=1\n",
    "print(maxlen)\n"
   ]
  },
  {
   "cell_type": "code",
   "execution_count": null,
   "metadata": {},
   "outputs": [],
   "source": [
    "Tsum = 3\n",
    "arr = [1, 2, 7, 4, 3, 1, 1, 1]\n",
    "maxlen = 0\n",
    "k = 1\n",
    "i = j = 0\n",
    "sum = 0  # Initialize sum\n",
    "\n",
    "while j < len(arr):\n",
    "    sum += arr[j]\n",
    "    if j - i + 1 < k:\n",
    "        j += 1\n",
    "    elif sum == Tsum:\n",
    "        maxlen = max(maxlen, k)  # Update maxlen with current k\n",
    "        sum = 0\n",
    "        k += 1\n",
    "        i = 0\n",
    "        j = 0\n",
    "    elif j - i + 1 == k:\n",
    "        sum -= arr[i]\n",
    "        i += 1\n",
    "        j += 1\n",
    "\n",
    "print(maxlen)\n"
   ]
  },
  {
   "cell_type": "code",
   "execution_count": 15,
   "metadata": {},
   "outputs": [
    {
     "name": "stdout",
     "output_type": "stream",
     "text": [
      ":hello\n",
      "jj\n"
     ]
    }
   ],
   "source": [
    "age=20\n",
    "if age>10:\n",
    "    print(\":hello\")\n",
    "elif age==20:\n",
    "    print(\"jj\")"
   ]
  }
 ],
 "metadata": {
  "kernelspec": {
   "display_name": "base",
   "language": "python",
   "name": "python3"
  },
  "language_info": {
   "codemirror_mode": {
    "name": "ipython",
    "version": 3
   },
   "file_extension": ".py",
   "mimetype": "text/x-python",
   "name": "python",
   "nbconvert_exporter": "python",
   "pygments_lexer": "ipython3",
   "version": "3.12.4"
  }
 },
 "nbformat": 4,
 "nbformat_minor": 2
}
