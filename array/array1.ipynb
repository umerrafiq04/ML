{
 "cells": [
  {
   "cell_type": "code",
   "execution_count": 2,
   "metadata": {},
   "outputs": [
    {
     "data": {
      "text/plain": [
       "18"
      ]
     },
     "execution_count": 2,
     "metadata": {},
     "output_type": "execute_result"
    }
   ],
   "source": [
    "arr=[2,3,5,2,9,7,1]\n",
    "def window(k,arr):\n",
    "    max=0\n",
    "    for i in range(len(arr)-k):\n",
    "        if arr[i]+arr[i+1]+arr[i+2]>max:\n",
    "            max=arr[i]+arr[i+1]+arr[i+2]\n",
    "    return max\n",
    "window(3,arr)\n"
   ]
  },
  {
   "cell_type": "markdown",
   "metadata": {},
   "source": [
    "max sum subarray of len k"
   ]
  },
  {
   "cell_type": "code",
   "execution_count": 4,
   "metadata": {},
   "outputs": [
    {
     "name": "stdout",
     "output_type": "stream",
     "text": [
      "18\n"
     ]
    }
   ],
   "source": [
    "arr=[2,3,5,2,9,7,1]\n",
    "i=j=0\n",
    "sum=0\n",
    "maxx=0\n",
    "k=3\n",
    "while(j<len(arr)):\n",
    "    sum+=arr[j]\n",
    "    if j-i+1<k:\n",
    "        j+=1\n",
    "    elif j-i+1==k:\n",
    "        maxx=max(sum,maxx)\n",
    "        sum=sum-arr[i]\n",
    "        i+=1\n",
    "        j+=1\n",
    "print(maxx)\n",
    "\n"
   ]
  },
  {
   "cell_type": "markdown",
   "metadata": {},
   "source": [
    "max len of subarray with sum=x"
   ]
  },
  {
   "cell_type": "code",
   "execution_count": 21,
   "metadata": {},
   "outputs": [
    {
     "name": "stdout",
     "output_type": "stream",
     "text": [
      "0\n"
     ]
    }
   ],
   "source": [
    "Tsum = 3\n",
    "arr = [1, 2, 7, 4, 8, 1, 1, 1]\n",
    "maxlen = 0\n",
    "k = 1\n",
    "i = j = 0\n",
    "sum = 0  # Initialize sum\n",
    "\n",
    "while j < len(arr):\n",
    "    sum += arr[j]\n",
    "    if j - i + 1 < k:\n",
    "        j += 1\n",
    "   \n",
    "    elif sum == Tsum:\n",
    "        maxlen = max(maxlen, k)  # Update maxlen with current k\n",
    "        sum = 0\n",
    "        k += 1\n",
    "        i = 0\n",
    "        j = 0\n",
    "    elif j - i + 1 == k:\n",
    "        sum -= arr[i]\n",
    "        i += 1\n",
    "        j += 1\n",
    "    if j==len(arr)-1:\n",
    "         k+=1\n",
    "\n",
    "print(maxlen)\n"
   ]
  },
  {
   "cell_type": "code",
   "execution_count": 25,
   "metadata": {},
   "outputs": [
    {
     "name": "stdout",
     "output_type": "stream",
     "text": [
      "3\n"
     ]
    }
   ],
   "source": [
    "Tsum = 3\n",
    "arr = [1, 2, 7, 4, 8, 1, 1, 1]\n",
    "\n",
    "def maxk(arr, k):\n",
    "    k = len(arr)\n",
    "    i = j = 0\n",
    "    current_sum = 0\n",
    "    f = 0\n",
    "\n",
    "    while j < len(arr):\n",
    "        current_sum += arr[j]\n",
    "\n",
    "        if j - i + 1 < k:  # If the current window size is less than k\n",
    "            j += 1\n",
    "        elif j - i + 1 == k:  # If the current window size is equal to k\n",
    "            if current_sum == Tsum:  # Check if the sum matches Tsum\n",
    "                return k\n",
    "\n",
    "            current_sum -= arr[i]  # Slide the window forward\n",
    "            i += 1\n",
    "            j += 1\n",
    "\n",
    "        if j == len(arr) and f == 0:  # If we reach the end without finding the sum\n",
    "            f = 1\n",
    "            k -= 1  # Reduce the window size\n",
    "            i = 0\n",
    "            j = 0\n",
    "            current_sum = 0\n",
    "\n",
    "        if f == 1:  # Reset the flag for the next iteration\n",
    "            f = 0\n",
    "\n",
    "    return -1  # Return -1 if no valid window is found\n",
    "\n",
    "print(maxk(arr, len(arr)))\n",
    "           \n"
   ]
  },
  {
   "cell_type": "markdown",
   "metadata": {},
   "source": [
    "frist negative integer in every window of size k"
   ]
  },
  {
   "cell_type": "code",
   "execution_count": 17,
   "metadata": {},
   "outputs": [
    {
     "name": "stdout",
     "output_type": "stream",
     "text": [
      "[-1, -1, -7, -15, -15, 0]\n"
     ]
    }
   ],
   "source": [
    "arr = [12, -1, -7, 8, -15, 30, 16, 28]\n",
    "k = 3\n",
    "\n",
    "def nn(arr, k):\n",
    "    i = 0\n",
    "    j = 0\n",
    "    n = len(arr)\n",
    "    temp = []\n",
    "    final = []\n",
    "\n",
    "    while j < n:\n",
    "        # Add negative numbers to the temporary list\n",
    "        if arr[j] < 0:\n",
    "            temp.append(arr[j])\n",
    "\n",
    "        # Check if the current window size is less than k\n",
    "        if j - i + 1 < k:\n",
    "            j += 1\n",
    "        elif j - i + 1 == k:\n",
    "            # If no negative number exists in the window, append 0\n",
    "            if len(temp) == 0:\n",
    "                final.append(0)\n",
    "            else:\n",
    "                final.append(temp[0])\n",
    "\n",
    "            # Slide the window\n",
    "            # if len(temp) > 0 and arr[i] == temp[0]:\n",
    "            if arr[i]<0:\n",
    "                temp.pop(0)  # Remove the element from temp only if it matches the first element in temp\n",
    "            i += 1\n",
    "            j += 1\n",
    "\n",
    "    return final\n",
    "\n",
    "# Test the function\n",
    "print(nn(arr, k))\n"
   ]
  },
  {
   "cell_type": "code",
   "execution_count": 1,
   "metadata": {},
   "outputs": [
    {
     "name": "stdout",
     "output_type": "stream",
     "text": [
      "3\n"
     ]
    }
   ],
   "source": [
    "txt = \"forxxorfxdofr\"\n",
    "pat = \"for\"\n",
    "\n",
    "def anagrams(txt, pat):\n",
    "    txt = txt.lower()\n",
    "    pat = pat.lower()\n",
    "    i = j = 0\n",
    "    count = 0\n",
    "    temp = []\n",
    "    k = len(pat)\n",
    "    \n",
    "    while j < len(txt):\n",
    "        if txt[j] in pat:\n",
    "            temp.append(txt[j])\n",
    "        \n",
    "        # Check if the window size matches the length of `pat`\n",
    "        if j - i + 1 == k:\n",
    "            # Check if the current window forms an anagram\n",
    "            if sorted(temp) == sorted(pat):\n",
    "                count += 1\n",
    "            # Slide the window\n",
    "            if txt[i] in temp:\n",
    "                temp.remove(txt[i])\n",
    "            i += 1\n",
    "        \n",
    "        j += 1\n",
    "    \n",
    "    return count\n",
    "\n",
    "print(anagrams(txt, pat))  # Output: Number of anagrams of \"for\" in the text\n",
    "\n",
    "\n",
    "\n",
    "        \n"
   ]
  },
  {
   "cell_type": "code",
   "execution_count": 37,
   "metadata": {},
   "outputs": [
    {
     "name": "stdout",
     "output_type": "stream",
     "text": [
      "3\n"
     ]
    },
    {
     "data": {
      "text/plain": [
       "3"
      ]
     },
     "execution_count": 37,
     "metadata": {},
     "output_type": "execute_result"
    }
   ],
   "source": [
    "def getCountOFAnagram(string,pattern):\n",
    "    n=len(string)\n",
    "    start=0\n",
    "    end=0\n",
    "    d=dict()  #frequency used\n",
    "    ans=0\n",
    "    k=len(pattern)\n",
    "    for i in pattern:\n",
    "        d[i]=d.get(i,0)+1\n",
    "    count=len(d)\n",
    "    print(len(d))\n",
    "    while end<n:\n",
    "        if string[end] in pattern:\n",
    "            d[string[end]]-=1\n",
    "            if d[string[end]] == 0:\n",
    "                count-=1\n",
    "        if end-start+1 <k:\n",
    "            end+=1\n",
    "        elif end-start+1 == k:\n",
    "            if count==0:\n",
    "                ans+=1\n",
    "            if string[start] in d :\n",
    "                d[string[start]]+=1\n",
    "                \n",
    "                count+=1\n",
    "            start+=1\n",
    "            end+=1\n",
    "    return ans\n",
    "txt = \"forxxorfxdofr\"\n",
    "pat = \"for\"\n",
    "getCountOFAnagram(txt, pat)"
   ]
  },
  {
   "cell_type": "code",
   "execution_count": 4,
   "metadata": {},
   "outputs": [
    {
     "name": "stdout",
     "output_type": "stream",
     "text": [
      "0\n"
     ]
    }
   ],
   "source": [
    "txt = \"forxxorfxdofr\"\n",
    "pat = \"for\"\n",
    "#for ofr rof fro orf rfo\n",
    "print(txt.find(pat))  # Output: 0"
   ]
  },
  {
   "cell_type": "code",
   "execution_count": 2,
   "metadata": {},
   "outputs": [
    {
     "data": {
      "text/plain": [
       "3"
      ]
     },
     "execution_count": 2,
     "metadata": {},
     "output_type": "execute_result"
    }
   ],
   "source": [
    "def anagrams(txt, pat):\n",
    "    txt = txt.lower()\n",
    "    pat = pat.lower()\n",
    "    k=len(pat)\n",
    "    d=dict()\n",
    "    ans=0\n",
    "    for i in pat:\n",
    "        d[i]=d.get(i,0)+1 #f:1,o:1,r:1\n",
    "    count=len(d) #3\n",
    "    i=j=0\n",
    "    while j<len(txt):\n",
    "        if txt[j] in pat:\n",
    "            d[txt[j]]-=1\n",
    "            if d[txt[j]]==0:\n",
    "                count-=1\n",
    "        if j-i+1<k:\n",
    "            j+=1\n",
    "        elif j-i+1==k:\n",
    "            if count==0:\n",
    "                ans+=1\n",
    "            if txt[i] in d:\n",
    "                d[txt[i]]+=1\n",
    "                count+=1\n",
    "            i+=1\n",
    "            j+=1\n",
    "    return ans\n",
    "txt = \"forxxorfxdofr\"\n",
    "pat = \"for\"\n",
    "anagrams(txt, pat)\n",
    "\n",
    "        "
   ]
  },
  {
   "cell_type": "code",
   "execution_count": 11,
   "metadata": {},
   "outputs": [
    {
     "name": "stdout",
     "output_type": "stream",
     "text": [
      "[3, 3, 5, 5, 6, 7]\n"
     ]
    }
   ],
   "source": [
    "arr=[1,3,-1,-3,5,3,6,7]\n",
    "n=len(arr)\n",
    "k=3\n",
    "temp=[]\n",
    "final=[]\n",
    "\n",
    "def mos(arr,k):\n",
    "    i=j=0\n",
    "    while j<n:\n",
    "        temp.append(arr[j])\n",
    "        if j-i+1 < k:\n",
    "            j+=1\n",
    "        elif j-i+1==k:\n",
    "            final.append(max(temp))\n",
    "            if arr[i] in temp:\n",
    "                temp.remove(arr[i])\n",
    "            j+=1\n",
    "            i+=1\n",
    "      \n",
    "    return final\n",
    "print(mos(arr,k))"
   ]
  },
  {
   "cell_type": "code",
   "execution_count": 13,
   "metadata": {},
   "outputs": [
    {
     "name": "stdout",
     "output_type": "stream",
     "text": [
      "[3, 3, 5, 5, 6, 7]\n"
     ]
    }
   ],
   "source": [
    "arr=[1,3,-1,-3,5,3,6,7]\n",
    "n=len(arr)\n",
    "k=3\n",
    "final=[]\n",
    "\n",
    "def mos(arr,k):\n",
    "    maxx=0\n",
    "    i=j=0\n",
    "    while j<n:\n",
    "        if arr[j]>maxx:\n",
    "            maxx=arr[j]\n",
    "        if j-i+1 < k:\n",
    "            j+=1\n",
    "        elif j-i+1==k:\n",
    "            final.append(maxx)\n",
    "            if arr[i] == maxx:\n",
    "                maxx=max(arr[i+1:j+1])\n",
    "            j+=1\n",
    "            i+=1\n",
    "      \n",
    "    return final\n",
    "print(mos(arr,k))"
   ]
  },
  {
   "cell_type": "code",
   "execution_count": 14,
   "metadata": {},
   "outputs": [
    {
     "name": "stdout",
     "output_type": "stream",
     "text": [
      "[3, 3, 5, 5, 6, 7]\n"
     ]
    }
   ],
   "source": [
    "arr = [1, 3, -1, -3, 5, 3, 6, 7]\n",
    "n = len(arr)\n",
    "k = 3\n",
    "\n",
    "def mos(arr, k):\n",
    "    i = j = 0\n",
    "    temp = []  # Monotonic decreasing deque (using a list)\n",
    "    result = []\n",
    "    n = len(arr)\n",
    "\n",
    "    while j < n:\n",
    "        # Maintain a monotonic deque\n",
    "        while temp and temp[-1] < arr[j]:\n",
    "            temp.pop()\n",
    "            \n",
    "        temp.append(arr[j])\n",
    "\n",
    "        # Check if the window size has reached `k`\n",
    "        if j - i + 1 == k:\n",
    "            result.append(temp[0])  # Append the maximum element (front of temp)\n",
    "\n",
    "            # Remove the element going out of the window\n",
    "            if temp[0] == arr[i]:\n",
    "                temp.pop(0)\n",
    "            i += 1  # Slide the window\n",
    "\n",
    "        j += 1  # Expand the window\n",
    "\n",
    "    return result\n",
    "\n",
    "print(mos(arr, k))\n"
   ]
  }
 ],
 "metadata": {
  "kernelspec": {
   "display_name": "base",
   "language": "python",
   "name": "python3"
  },
  "language_info": {
   "codemirror_mode": {
    "name": "ipython",
    "version": 3
   },
   "file_extension": ".py",
   "mimetype": "text/x-python",
   "name": "python",
   "nbconvert_exporter": "python",
   "pygments_lexer": "ipython3",
   "version": "3.12.4"
  }
 },
 "nbformat": 4,
 "nbformat_minor": 2
}
