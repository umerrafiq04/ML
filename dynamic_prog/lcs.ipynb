{
 "cells": [
  {
   "cell_type": "markdown",
   "metadata": {},
   "source": [
    "-lcs bottom up"
   ]
  },
  {
   "cell_type": "code",
   "execution_count": 2,
   "metadata": {},
   "outputs": [],
   "source": [
    "a= \"abc\"\n",
    "b= \"abc\""
   ]
  },
  {
   "cell_type": "code",
   "execution_count": 7,
   "metadata": {},
   "outputs": [
    {
     "data": {
      "text/plain": [
       "[[-1, -1, -1, -1],\n",
       " [-1, -1, -1, -1],\n",
       " [-1, -1, -1, -1],\n",
       " [-1, -1, -1, -1],\n",
       " [-1, -1, -1, -1],\n",
       " [-1, -1, -1, -1]]"
      ]
     },
     "execution_count": 7,
     "metadata": {},
     "output_type": "execute_result"
    }
   ],
   "source": [
    "t=[[-1 for _ in range(len(b)+1)]for _ in range(len(a)+1)]\n",
    "t"
   ]
  },
  {
   "cell_type": "code",
   "execution_count": 8,
   "metadata": {},
   "outputs": [
    {
     "data": {
      "text/plain": [
       "[[0, 0, 0, 0],\n",
       " [0, -1, -1, -1],\n",
       " [0, -1, -1, -1],\n",
       " [0, -1, -1, -1],\n",
       " [0, -1, -1, -1],\n",
       " [0, -1, -1, -1]]"
      ]
     },
     "execution_count": 8,
     "metadata": {},
     "output_type": "execute_result"
    }
   ],
   "source": [
    "a= \"abc\"\n",
    "b= \"abc\"\n",
    "t=[[-1 for _ in range(len(b)+1)]for _ in range(len(a)+1)]\n",
    "for i in range(len(b)+1):\n",
    "   t[0][i]=0 \n",
    "for i in range(len(a)+1):\n",
    "   t[i][0]=0 \n",
    "for i in range(len(a)+1):\n",
    "    for j in range(len(b)+1):\n",
    "        if a[i-1]==b[j-1]:\n",
    "            t[i][j]=1+t[i-1][j-1]\n",
    "        else:\n",
    "            t[i][j]=max(t[i][j-1],t[i-1][j])"
   ]
  },
  {
   "cell_type": "code",
   "execution_count": 9,
   "metadata": {},
   "outputs": [],
   "source": [
    "for i in range(len(a)+1):\n",
    "    for j in range(len(b)+1):\n",
    "        if a[i-1]==b[j-1]:\n",
    "            t[i][j]=1+t[i-1][j-1]\n",
    "        else:\n",
    "            t[i][j]=max(t[i][j-1],t[i-1][j])"
   ]
  },
  {
   "cell_type": "code",
   "execution_count": 10,
   "metadata": {},
   "outputs": [
    {
     "name": "stdout",
     "output_type": "stream",
     "text": [
      "3\n"
     ]
    }
   ],
   "source": [
    "print(t[len(a)][len(b)])"
   ]
  }
 ],
 "metadata": {
  "kernelspec": {
   "display_name": "base",
   "language": "python",
   "name": "python3"
  },
  "language_info": {
   "codemirror_mode": {
    "name": "ipython",
    "version": 3
   },
   "file_extension": ".py",
   "mimetype": "text/x-python",
   "name": "python",
   "nbconvert_exporter": "python",
   "pygments_lexer": "ipython3",
   "version": "3.12.4"
  }
 },
 "nbformat": 4,
 "nbformat_minor": 2
}
