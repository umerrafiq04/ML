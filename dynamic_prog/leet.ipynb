{
 "cells": [
  {
   "cell_type": "code",
   "execution_count": 24,
   "metadata": {},
   "outputs": [
    {
     "name": "stdout",
     "output_type": "stream",
     "text": [
      "807\n"
     ]
    }
   ],
   "source": [
    "l1 = [2,4,3] #342  = 3*100 + 4*10 + 2*1\n",
    "l2 = [5,6,4] \n",
    "l1.reverse()\n",
    "l2.reverse()\n",
    "l1s=0\n",
    "l2s=0\n",
    "k1=len(l1)-1\n",
    "k2=len(l2)-1\n",
    "\n",
    "for i in range(len(l1)):\n",
    "    l1s+=l1[i]*((10**k1))\n",
    "    k1-=1\n",
    "for i in range(len(l2)):\n",
    "    l2s+=l2[i]*((10**k2))\n",
    "    k2-=1\n",
    "print(l1s+l2s)\n"
   ]
  },
  {
   "cell_type": "code",
   "execution_count": 28,
   "metadata": {},
   "outputs": [
    {
     "data": {
      "text/plain": [
       "[[], [11], 11, 11]"
      ]
     },
     "execution_count": 28,
     "metadata": {},
     "output_type": "execute_result"
    }
   ],
   "source": [
    "# find all possible subsets... power subset\n",
    "nums = [1,2,3]\n",
    "powerset=[[]]\n",
    "powerset.append([11])\n",
    "for i in range(len(nums)):\n",
    "    for j in range(i+1,len(nums)):\n",
    "        powerset.append([nums[j]])\n",
    "\n"
   ]
  },
  {
   "cell_type": "code",
   "execution_count": 37,
   "metadata": {},
   "outputs": [
    {
     "data": {
      "text/plain": [
       "4"
      ]
     },
     "execution_count": 37,
     "metadata": {},
     "output_type": "execute_result"
    }
   ],
   "source": [
    "def countPrimes(n):\n",
    "        nprime=[]\n",
    "        prime=[]\n",
    "        for i in range(4,n):\n",
    "            for j in range(2,(i//2)+1):\n",
    "                if i%j==0:\n",
    "                    nprime.append(i)\n",
    "        for i in range(n):\n",
    "             if i not in nprime:\n",
    "                  prime.append(i)\n",
    "        return len(prime)-2\n",
    "n=10\n",
    "countPrimes(n)\n"
   ]
  },
  {
   "cell_type": "code",
   "execution_count": 39,
   "metadata": {},
   "outputs": [
    {
     "name": "stdout",
     "output_type": "stream",
     "text": [
      "None\n"
     ]
    }
   ],
   "source": [
    "def prime(n):\n",
    "    k=n\n",
    "    if n==1:\n",
    "        return\n",
    "    if n\n",
    "prime()"
   ]
  },
  {
   "cell_type": "code",
   "execution_count": null,
   "metadata": {},
   "outputs": [],
   "source": [
    "nums = [1,-1,-3,-2,3], k = 3, x = 2\n",
    "i=j=0\n",
    "temp=[]\n",
    "ans=[]\n",
    "while j < len(nums):\n",
    "    temp.append(nums[j])\n",
    "    if j-i+1==k:\n",
    "        temp.sort()\n",
    "        ans.append(temp[2])\n",
    "        "
   ]
  },
  {
   "cell_type": "code",
   "execution_count": 3,
   "metadata": {},
   "outputs": [
    {
     "name": "stdout",
     "output_type": "stream",
     "text": [
      "[4, 5, 11, 31, 222]\n"
     ]
    }
   ],
   "source": [
    "nums=[11,222,31,4,5]\n"
   ]
  },
  {
   "cell_type": "code",
   "execution_count": 8,
   "metadata": {},
   "outputs": [
    {
     "data": {
      "text/plain": [
       "15"
      ]
     },
     "execution_count": 8,
     "metadata": {},
     "output_type": "execute_result"
    }
   ],
   "source": [
    "def maxScore(cardPoints, k):\n",
    "        i=j=0\n",
    "        maxval=0\n",
    "        summ=0\n",
    "        while j< len(cardPoints):\n",
    "            summ+=cardPoints[j]\n",
    "            if j-i+1<k:\n",
    "                j+=1\n",
    "            elif j-i+1==k:\n",
    "                maxval=max(maxval,summ)\n",
    "                summ-=cardPoints[i]\n",
    "                i+=1\n",
    "                j+=1\n",
    "        return maxval\n",
    "        \n",
    "cardPoints =[1,2,3,4,5,6,1]\n",
    "k=3\n",
    "maxScore(cardPoints,k)"
   ]
  },
  {
   "cell_type": "code",
   "execution_count": 16,
   "metadata": {},
   "outputs": [
    {
     "name": "stdout",
     "output_type": "stream",
     "text": [
      "16\n"
     ]
    }
   ],
   "source": [
    "points=[6,2,3,4,7,2,1,7,1]\n",
    "k=4\n",
    "j=i=0\n",
    "rsum=lsum=0\n",
    "r=len(points)-1\n",
    "maxsum=0\n",
    "for i in range(k):\n",
    "    lsum+=points[i]\n",
    "maxsum=lsum\n",
    "\n",
    "t=k-1\n",
    "j=len(points)-1\n",
    "while j>=0 and t>=0:\n",
    "    lsum-=points[t]\n",
    "    rsum+=points[j]\n",
    "    t-=1\n",
    "    maxsum=max(maxsum,lsum+rsum)\n",
    "    j-=1\n",
    "\n",
    "print(maxsum)\n",
    "\n",
    "\n",
    "\n"
   ]
  },
  {
   "cell_type": "markdown",
   "metadata": {},
   "source": [
    "You are given an integer array nums consisting of n elements, and an integer k.\n",
    "\n",
    "Find a contiguous subarray whose length is equal to k that has the maximum average value and return this value. Any answer with a calculation error less than 10-5 will be accepted.\n",
    "\n",
    " \n",
    "\n",
    "Example 1:\n",
    "\n",
    "Input: nums = [1,12,-5,-6,50,3], k = 4\n",
    "Output: 12.75000\n",
    "Explanation: Maximum average is (12 - 5 - 6 + 50) / 4 = 51 / 4 = 12.75"
   ]
  },
  {
   "cell_type": "code",
   "execution_count": 25,
   "metadata": {},
   "outputs": [
    {
     "name": "stdout",
     "output_type": "stream",
     "text": [
      "1\n",
      "13\n",
      "8\n",
      "2\n",
      "51\n",
      "42\n",
      "12.75\n"
     ]
    }
   ],
   "source": [
    "nums = [1,12,-5,-6,50,3]\n",
    "k = 4\n",
    "i=j=0\n",
    "summ=0\n",
    "maxavg=0\n",
    "while j<len(nums):\n",
    "    summ+=nums[j]\n",
    "    print(summ)\n",
    "    if j-i+1==k:\n",
    "        maxavg=max(maxavg,summ/(j-i+1))\n",
    "        summ-=nums[i]\n",
    "        i+=1\n",
    "    j+=1\n",
    "\n",
    "print(maxavg)"
   ]
  },
  {
   "cell_type": "code",
   "execution_count": null,
   "metadata": {},
   "outputs": [],
   "source": []
  }
 ],
 "metadata": {
  "kernelspec": {
   "display_name": "base",
   "language": "python",
   "name": "python3"
  },
  "language_info": {
   "codemirror_mode": {
    "name": "ipython",
    "version": 3
   },
   "file_extension": ".py",
   "mimetype": "text/x-python",
   "name": "python",
   "nbconvert_exporter": "python",
   "pygments_lexer": "ipython3",
   "version": "3.12.4"
  }
 },
 "nbformat": 4,
 "nbformat_minor": 2
}
