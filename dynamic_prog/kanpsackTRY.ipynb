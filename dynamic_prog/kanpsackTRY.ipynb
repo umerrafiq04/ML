{
 "cells": [
  {
   "cell_type": "code",
   "execution_count": 17,
   "metadata": {},
   "outputs": [
    {
     "name": "stdout",
     "output_type": "stream",
     "text": [
      "True\n"
     ]
    }
   ],
   "source": [
    "import numpy as np\n",
    "arr = [7,5,24,12]\n",
    "n = len(arr)\n",
    "s=np.sum(arr)\n",
    "s=s//2\n",
    "t = [[False for _ in range(s+1)] for _ in range(n+1)]\n",
    "i=j=0\n",
    "for i in range(n+1):\n",
    "    t[i][0]=True\n",
    "for i in range(n+1):\n",
    "    for j in range(s+1):\n",
    "        if arr[n-1]<=j:\n",
    "            t[i][j]=t[i-1][j-arr[n-1]] or t[i-1][j]\n",
    "        else:\n",
    "            t[i][j]=t[i-1][j]\n",
    "print(t[n][s])            \n"
   ]
  },
  {
   "cell_type": "code",
   "execution_count": null,
   "metadata": {},
   "outputs": [],
   "source": []
  },
  {
   "cell_type": "code",
   "execution_count": null,
   "metadata": {},
   "outputs": [],
   "source": []
  },
  {
   "cell_type": "code",
   "execution_count": null,
   "metadata": {},
   "outputs": [],
   "source": []
  }
 ],
 "metadata": {
  "kernelspec": {
   "display_name": "base",
   "language": "python",
   "name": "python3"
  },
  "language_info": {
   "codemirror_mode": {
    "name": "ipython",
    "version": 3
   },
   "file_extension": ".py",
   "mimetype": "text/x-python",
   "name": "python",
   "nbconvert_exporter": "python",
   "pygments_lexer": "ipython3",
   "version": "3.12.4"
  }
 },
 "nbformat": 4,
 "nbformat_minor": 2
}
