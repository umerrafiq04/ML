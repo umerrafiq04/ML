{
 "cells": [
  {
   "cell_type": "markdown",
   "metadata": {},
   "source": [
    "# unbounded 0/1 knapsack\n",
    "* min num of coins to get a given sum\n",
    "* variations:\n",
    "- initialization : 1st row= infinity _ 1st col=0 _ 2nd row=(condition(j%arr[0]==0)=j/arr[0] else infiniy)\n",
    "- code:max<-->min  __ taken+1"
   ]
  },
  {
   "cell_type": "code",
   "execution_count": 2,
   "metadata": {},
   "outputs": [
    {
     "name": "stdout",
     "output_type": "stream",
     "text": [
      "[[0, 9999, 9999, 9999, 9999, 9999], [0, 9999, 9999, 9999, 9999, 9999], [0, 9999, 9999, 9999, 9999, 9999], [0, 9999, 9999, 9999, 9999, 9999]]\n",
      "2\n"
     ]
    }
   ],
   "source": [
    "summ=5\n",
    "coins=[1,2,3]\n",
    "n=len(coins)\n",
    "# min no of coins to get sum =summ\n",
    "maxx=9999\n",
    "t=[[maxx for _ in range(summ+1)]for _ in range(n+1)]\n",
    "for i in range(n+1):\n",
    "    t[i][0]=0\n",
    "print(t)\n",
    "for j in range(1,summ+1):\n",
    "    if j%coins[0]==0:\n",
    "        t[1][j]=j//coins[0]\n",
    "    else:\n",
    "        t[1][j]==maxx\n",
    "\n",
    "for i in range(2,n+1):\n",
    "    for j in range(1,summ+1):\n",
    "        if coins[i-1]<=j:\n",
    "            t[i][j]=min(1+t[i][j-coins[i-1]],t[i][j])  #why +1:basically we consider frequency here,so every time \n",
    "            #                                           we include any coin we will increase its frequncy by 1\n",
    "        else:\n",
    "            t[i][j]=t[i-1][j]\n",
    "print(t[n][summ])\n"
   ]
  },
  {
   "cell_type": "code",
   "execution_count": null,
   "metadata": {},
   "outputs": [],
   "source": []
  },
  {
   "cell_type": "code",
   "execution_count": null,
   "metadata": {},
   "outputs": [],
   "source": []
  }
 ],
 "metadata": {
  "kernelspec": {
   "display_name": "base",
   "language": "python",
   "name": "python3"
  },
  "language_info": {
   "codemirror_mode": {
    "name": "ipython",
    "version": 3
   },
   "file_extension": ".py",
   "mimetype": "text/x-python",
   "name": "python",
   "nbconvert_exporter": "python",
   "pygments_lexer": "ipython3",
   "version": "3.12.4"
  }
 },
 "nbformat": 4,
 "nbformat_minor": 2
}
