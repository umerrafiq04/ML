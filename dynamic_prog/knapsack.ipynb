{
 "cells": [
  {
   "cell_type": "markdown",
   "metadata": {},
   "source": [
    "knapsack using recursion\n"
   ]
  },
  {
   "cell_type": "code",
   "execution_count": 11,
   "metadata": {},
   "outputs": [
    {
     "name": "stdout",
     "output_type": "stream",
     "text": [
      "85\n"
     ]
    }
   ],
   "source": [
    "def knapsack(wt,val,w,n):\n",
    "    if n==0 or w==0:\n",
    "        return 0\n",
    "    if wt[n-1]<=w:\n",
    "        return max(val[n-1] + knapsack(wt,val,w-wt[n-1],n-1),knapsack(wt,val,w,n-1))\n",
    "    else:\n",
    "        return knapsack(wt,val,w,n-1)\n",
    "    \n",
    "wt=[1,3,5,8]\n",
    "val=[10,20,30,25]\n",
    "w=17\n",
    "n=4\n",
    "print(knapsack(wt,val,w,n))"
   ]
  },
  {
   "cell_type": "markdown",
   "metadata": {},
   "source": [
    "memoization=rc+table"
   ]
  },
  {
   "cell_type": "code",
   "execution_count": 12,
   "metadata": {},
   "outputs": [
    {
     "name": "stdout",
     "output_type": "stream",
     "text": [
      "85\n"
     ]
    }
   ],
   "source": [
    "t=[[-1 for _ in range(w+1)]for _ in range(n+1)]\n",
    "def knapsack(wt,val,w,n):\n",
    "    if n==0 or w==0:\n",
    "        return 0\n",
    "    if t[n][w]!=-1:\n",
    "        return t[n][w]\n",
    "    if wt[n-1]<=w:\n",
    "        t[n][w]=max(val[n-1] + knapsack(wt,val,w-wt[n-1],n-1),knapsack(wt,val,w,n-1))\n",
    "        return t[n][w]\n",
    "    else:\n",
    "        t[n][w]=knapsack(wt,val,w,n-1)\n",
    "        return t[n][w]\n",
    "    \n",
    "wt=[1,3,5,8]\n",
    "val=[10,20,30,25]\n",
    "w=17\n",
    "n=4\n",
    "print(knapsack(wt,val,w,n))"
   ]
  },
  {
   "cell_type": "markdown",
   "metadata": {},
   "source": [
    "\n",
    "n = 4  # Example number of items\n",
    "w = 7  # Example weight capacity\n",
    "\n",
    "* # Create a 2D matrix with dimensions (n+1) x (w+1), initialized to 0\n",
    "* dp = [[0 for _ in range(w+1)] for _ in range(n+1)]\n",
    "\n",
    "* # Print the matrix\n",
    "* for row in dp:\n",
    "*     print(row)\n",
    "\n",
    "t=[[-1 for _ in range(w+1)]for _ in range(n+1)]\n",
    "print(t[3,5])\n"
   ]
  },
  {
   "cell_type": "code",
   "execution_count": null,
   "metadata": {},
   "outputs": [],
   "source": []
  },
  {
   "cell_type": "code",
   "execution_count": 12,
   "metadata": {},
   "outputs": [
    {
     "name": "stdout",
     "output_type": "stream",
     "text": [
      "40\n"
     ]
    }
   ],
   "source": [
    "w=7\n",
    "wt=[1,3,5,8]\n",
    "val=[10,20,30,25]\n",
    "n=4\n",
    "t=[[0 for _ in range(w+1)] for _ in range(n+1)]\n",
    "for i in range(1,n+1):\n",
    "    for j in range(1,w+1):\n",
    "        if wt[i-1]<=j:\n",
    "            t[i][j]=max(val[i-1]+t[i-1][j-wt[i-1]],t[i-1][j])\n",
    "        else:\n",
    "            t[i][j]=t[i-1][j]\n",
    "print(t[n][w])\n",
    "\n"
   ]
  },
  {
   "cell_type": "code",
   "execution_count": 15,
   "metadata": {},
   "outputs": [
    {
     "name": "stdout",
     "output_type": "stream",
     "text": [
      "[[2, 8], [3, 7], [7, 3], [8, 2]]\n"
     ]
    }
   ],
   "source": [
    "# subset sum problem\n",
    "a=[2,3,7,8]\n",
    "s=10\n",
    "q=[]\n",
    "for i in a:\n",
    "    for j in a:\n",
    "            if i+j==s:\n",
    "                q.append([i,j])\n",
    "print(q)\n"
   ]
  },
  {
   "cell_type": "markdown",
   "metadata": {},
   "source": [
    "* Subset Sum Problem using DP: return true or false"
   ]
  },
  {
   "cell_type": "code",
   "execution_count": 33,
   "metadata": {},
   "outputs": [
    {
     "name": "stdout",
     "output_type": "stream",
     "text": [
      "True\n"
     ]
    }
   ],
   "source": [
    "\n",
    "sum = 11\n",
    "arr = [2, 3, 7, 8]  # Weights\n",
    "n = len(arr)  # Correct length of the array\n",
    "\n",
    "# Initialize DP table\n",
    "t = [[False for _ in range(sum+1)] for _ in range(n+1)]\n",
    "\n",
    "# Base case: If sum is 0, it's always possible (empty subset)\n",
    "for i in range(n+1):\n",
    "    t[i][0] = True\n",
    "\n",
    "# Fill the DP table\n",
    "for i in range(1, n+1):\n",
    "    for j in range(1, sum+1):\n",
    "        if arr[i-1] <= j:  # If the current item can contribute to the sum\n",
    "            t[i][j] = t[i-1][j-arr[i-1]] or t[i-1][j]\n",
    "        else:  # If the current item cannot contribute to the sum\n",
    "            t[i][j] = t[i-1][j]\n",
    "\n",
    "# Output whether a subset with the given sum exists\n",
    "print(t[n][sum])\n",
    "\n",
    "\n"
   ]
  },
  {
   "cell_type": "markdown",
   "metadata": {},
   "source": [
    "* Subset Sum Problem using Recurrsion: return true or false"
   ]
  },
  {
   "cell_type": "code",
   "execution_count": 36,
   "metadata": {},
   "outputs": [
    {
     "name": "stdout",
     "output_type": "stream",
     "text": [
      "True\n"
     ]
    }
   ],
   "source": [
    "def ssp(arr, sum, n):\n",
    "    # Base cases\n",
    "    if sum == 0:  # A subset with sum 0 is always possible (empty subset)\n",
    "        return True\n",
    "    if n == 0:  # If there are no elements left and sum is not 0\n",
    "        return False\n",
    "\n",
    "    # Recursive cases\n",
    "    if arr[n-1] <= sum:  # If the current element can be included\n",
    "        return ssp(arr, sum - arr[n-1], n-1) or ssp(arr, sum, n-1)\n",
    "    else:  # If the current element cannot be included\n",
    "        return ssp(arr, sum, n-1)\n",
    "\n",
    "# Input values\n",
    "sum = 11\n",
    "arr = [2, 3, 7, 8]\n",
    "n = len(arr)\n",
    "\n",
    "# Call the function\n",
    "print(ssp(arr, sum, n))\n",
    "\n",
    "    \n"
   ]
  },
  {
   "cell_type": "markdown",
   "metadata": {},
   "source": [
    "* equal sum partition\n",
    "* =sum should be even --> sum=sum/2 --> subset sum problem\n",
    "* statement?divide array into 2 partitions such that there sum is equal ie:\n",
    "* total sum=2s....(eg sum=22)\n",
    "* sum of partition1=s....(s=11)\n",
    "* sum of partition2=s\n",
    "* solution: check whether there exists a subset whose sum is s"
   ]
  },
  {
   "cell_type": "code",
   "execution_count": 12,
   "metadata": {},
   "outputs": [
    {
     "name": "stdout",
     "output_type": "stream",
     "text": [
      "True\n"
     ]
    }
   ],
   "source": [
    "# arr = [1,5,11,5]\n",
    "arr = [7,5,24,12]\n",
    "n = len(arr)\n",
    "sum=0\n",
    "for i in arr:\n",
    "    sum+=i\n",
    "\n",
    "\n",
    "\n",
    "def ssp(arr, sum, n):\n",
    "    # Base cases\n",
    "    if sum == 0:  # A subset with sum 0 is always possible (empty subset)\n",
    "        return True\n",
    "    if n == 0:  # If there are no elements left and sum is not 0\n",
    "        return False\n",
    "\n",
    "    # Recursive cases\n",
    "    if arr[n-1] <= sum:  # If the current element can be included\n",
    "        return ssp(arr, sum - arr[n-1], n-1) or ssp(arr, sum, n-1)\n",
    "    else:  # If the current element cannot be included\n",
    "        return ssp(arr, sum, n-1)\n",
    "\n",
    "# equal sum partion\n",
    "def esp(arr, sum, n):\n",
    "     if sum%2!=0:\n",
    "         return False\n",
    "     else:\n",
    "         return ssp(arr,sum//2,n)\n",
    "\n",
    "print(esp(arr, sum, n))\n",
    "         \n",
    "    \n",
    "\n",
    "\n"
   ]
  },
  {
   "cell_type": "markdown",
   "metadata": {},
   "source": [
    "count of subsets with a given sum"
   ]
  },
  {
   "cell_type": "code",
   "execution_count": 3,
   "metadata": {},
   "outputs": [
    {
     "name": "stdout",
     "output_type": "stream",
     "text": [
      "[[1, 0, 0, 0, 0, 0, 0, 0, 0, 0, 0], [1, 0, 0, 0, 0, 0, 0, 0, 0, 0, 0], [1, 0, 0, 0, 0, 0, 0, 0, 0, 0, 0], [1, 0, 0, 0, 0, 0, 0, 0, 0, 0, 0], [1, 0, 0, 0, 0, 0, 0, 0, 0, 0, 0], [1, 0, 0, 0, 0, 0, 0, 0, 0, 0, 0], [1, 0, 0, 0, 0, 0, 0, 0, 0, 0, 0]]\n",
      "3\n"
     ]
    }
   ],
   "source": [
    "\n",
    "sum = 10\n",
    "arr = [2, 3, 5,6,8,10]  # Weights\n",
    "n = len(arr)  # Correct length of the array\n",
    "\n",
    "# Initialize DP table\n",
    "t = [[0 for _ in range(sum+1)] for _ in range(n+1)]\n",
    "\n",
    "# Base case: If sum is 0, it's always possible (empty subset)\n",
    "for i in range(n+1):\n",
    "    t[i][0] =1\n",
    "print(t)\n",
    "# Fill the DP table\n",
    "for i in range(1, n+1):\n",
    "    for j in range(1, sum+1):\n",
    "        if arr[i-1] <= j:  # If the current item can contribute to the sum\n",
    "            t[i][j] = t[i-1][j-arr[i-1]] + t[i-1][j]\n",
    "        else:  # If the current item cannot contribute to the sum\n",
    "            t[i][j] = t[i-1][j]\n",
    "\n",
    "# Output whether a subset with the given sum exists\n",
    "print(t[n][sum])\n"
   ]
  },
  {
   "cell_type": "markdown",
   "metadata": {},
   "source": [
    "are there any subsets with difference d\n",
    "S=s1,s2\n",
    "is there any subset with sum, s1=(d+s)/2?"
   ]
  },
  {
   "cell_type": "code",
   "execution_count": 14,
   "metadata": {},
   "outputs": [
    {
     "name": "stdout",
     "output_type": "stream",
     "text": [
      "3\n"
     ]
    }
   ],
   "source": [
    "arr = [1, 1, 2, 3]\n",
    "n = len(arr)\n",
    "total_sum = 0\n",
    "for i in arr:\n",
    "    total_sum+=i\n",
    "d = 1\n",
    "\n",
    "# Calculate s1\n",
    "if (total_sum + d) % 2 != 0:  # Check if s1 is valid\n",
    "    print(0)  # If not, no solution exists\n",
    "else:\n",
    "    s1 = (total_sum + d) // 2\n",
    "\n",
    "    # Initialize DP table\n",
    "    t = [[0 for _ in range(s1 + 1)] for _ in range(n + 1)]\n",
    "\n",
    "    # Base case: If sum is 0, there's 1 subset (the empty subset)\n",
    "    for i in range(n + 1):\n",
    "        t[i][0] = 1\n",
    "\n",
    "    # Fill the DP table\n",
    "    for i in range(1, n + 1):\n",
    "        for j in range(1, s1 + 1):\n",
    "            if arr[i - 1] <= j:  # If current element can contribute\n",
    "                t[i][j] = t[i - 1][j - arr[i - 1]] + t[i - 1][j]\n",
    "            else:  # If it cannot contribute\n",
    "                t[i][j] = t[i - 1][j]\n",
    "\n",
    "    # Output the result\n",
    "    print(t[n][s1])\n",
    "\n"
   ]
  },
  {
   "cell_type": "markdown",
   "metadata": {},
   "source": [
    "min subset sum difference"
   ]
  },
  {
   "cell_type": "code",
   "execution_count": 2,
   "metadata": {},
   "outputs": [
    {
     "name": "stdout",
     "output_type": "stream",
     "text": [
      "Subset sums (s1): [0, 1, 2, 3]\n",
      "Minimum difference: 4\n"
     ]
    }
   ],
   "source": [
    "# Restart your environment if the issue persists\n",
    "arr = [1, 2, 7]\n",
    "total_sum = 10  # Renamed from 'sum' to avoid shadowing the built-in function\n",
    "n = len(arr)\n",
    "\n",
    "# Initialize the DP table\n",
    "t = [[False for _ in range(total_sum + 1)] for _ in range(n + 1)]\n",
    "\n",
    "# Base case: For sum = 0, it's always possible to make the subset\n",
    "for i in range(n + 1):\n",
    "    t[i][0] = True\n",
    "\n",
    "# Populate the DP table\n",
    "for i in range(1, n + 1):\n",
    "    for j in range(1, total_sum + 1):\n",
    "        if arr[i - 1] <= j:  # If the current element can be included\n",
    "            t[i][j] = t[i - 1][j - arr[i - 1]] or t[i - 1][j]\n",
    "        else:  # Otherwise, exclude it\n",
    "            t[i][j] = t[i - 1][j]\n",
    "\n",
    "# Find all possible sums up to total_sum//2\n",
    "v = []\n",
    "for i in range((total_sum // 2) + 1):\n",
    "    if t[n][i]:\n",
    "        v.append(i)\n",
    "\n",
    "# Calculate the minimum difference\n",
    "range_sum = total_sum\n",
    "min_diff = range_sum - 2 * v[0]  # Initialize with the first possible subset sum\n",
    "\n",
    "for i in v:\n",
    "    if range_sum - 2 * i < min_diff:\n",
    "        min_diff = range_sum - 2 * i\n",
    "\n",
    "print(\"Subset sums (s1):\", v)\n",
    "print(\"Minimum difference:\", min_diff)\n",
    "\n"
   ]
  },
  {
   "cell_type": "code",
   "execution_count": 12,
   "metadata": {},
   "outputs": [
    {
     "name": "stdout",
     "output_type": "stream",
     "text": [
      "256\n"
     ]
    }
   ],
   "source": [
    "nums = [0,0,0,0,0,0,0,0,1]\n",
    "target = 1\n",
    "summ=0\n",
    "n=len(nums)\n",
    "for i in nums:\n",
    "    summ+=i\n",
    "s1=(target+summ)//2\n",
    "# task:how many subsets are there with sum=s1\n",
    "# Initialize DP table\n",
    "t = [[0 for _ in range(s1+1)] for _ in range(n+1)]\n",
    "\n",
    "# Base case: If sum is 0, it's always possible (empty subset)\n",
    "for i in range(n+1):\n",
    "    t[i][0] =1\n",
    "# Fill the DP table\n",
    "for i in range(1, n+1):\n",
    "    for j in range (s1+1):\n",
    "        if nums[i-1] <= j:  # If the current item can contribute to the sum\n",
    "            t[i][j] = t[i-1][j-nums[i-1]] + t[i-1][j]\n",
    "        else:  # If the current item cannot contribute to the sum\n",
    "            t[i][j] = t[i-1][j]\n",
    "print(t[n][s1])"
   ]
  }
 ],
 "metadata": {
  "kernelspec": {
   "display_name": "base",
   "language": "python",
   "name": "python3"
  },
  "language_info": {
   "codemirror_mode": {
    "name": "ipython",
    "version": 3
   },
   "file_extension": ".py",
   "mimetype": "text/x-python",
   "name": "python",
   "nbconvert_exporter": "python",
   "pygments_lexer": "ipython3",
   "version": "3.12.4"
  }
 },
 "nbformat": 4,
 "nbformat_minor": 2
}
