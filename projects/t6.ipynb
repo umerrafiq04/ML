{
 "cells": [
  {
   "cell_type": "code",
   "execution_count": 3,
   "id": "1d0958a8-16cb-49f0-8614-f3f136acc4a0",
   "metadata": {},
   "outputs": [],
   "source": [
    "import numpy as np\n",
    "import pandas as pd\n",
    "from io import StringIO"
   ]
  },
  {
   "cell_type": "code",
   "execution_count": 48,
   "id": "fc75c1e2-689b-4b93-9d0a-e9c5c04b7624",
   "metadata": {},
   "outputs": [],
   "source": [
    "df=pd.DataFrame(np.random.rand(5,6),index=[\"a\",\"b\",\"c\",\"d\",\"e\"],columns=[\"col1\",\"col2\",\"col3\",\"col4\",\"col5\",\"col6\"])"
   ]
  },
  {
   "cell_type": "code",
   "execution_count": 49,
   "id": "fb80e475-defe-46b3-9183-d7a55a8c04a7",
   "metadata": {},
   "outputs": [
    {
     "data": {
      "text/html": [
       "<div>\n",
       "<style scoped>\n",
       "    .dataframe tbody tr th:only-of-type {\n",
       "        vertical-align: middle;\n",
       "    }\n",
       "\n",
       "    .dataframe tbody tr th {\n",
       "        vertical-align: top;\n",
       "    }\n",
       "\n",
       "    .dataframe thead th {\n",
       "        text-align: right;\n",
       "    }\n",
       "</style>\n",
       "<table border=\"1\" class=\"dataframe\">\n",
       "  <thead>\n",
       "    <tr style=\"text-align: right;\">\n",
       "      <th></th>\n",
       "      <th>col1</th>\n",
       "      <th>col2</th>\n",
       "      <th>col3</th>\n",
       "      <th>col4</th>\n",
       "      <th>col5</th>\n",
       "      <th>col6</th>\n",
       "    </tr>\n",
       "  </thead>\n",
       "  <tbody>\n",
       "    <tr>\n",
       "      <th>a</th>\n",
       "      <td>0.146414</td>\n",
       "      <td>0.254635</td>\n",
       "      <td>0.038519</td>\n",
       "      <td>0.022567</td>\n",
       "      <td>0.171244</td>\n",
       "      <td>0.233217</td>\n",
       "    </tr>\n",
       "    <tr>\n",
       "      <th>b</th>\n",
       "      <td>0.743896</td>\n",
       "      <td>0.106612</td>\n",
       "      <td>0.841417</td>\n",
       "      <td>0.134216</td>\n",
       "      <td>0.788160</td>\n",
       "      <td>0.309569</td>\n",
       "    </tr>\n",
       "    <tr>\n",
       "      <th>c</th>\n",
       "      <td>0.527088</td>\n",
       "      <td>0.722814</td>\n",
       "      <td>0.653498</td>\n",
       "      <td>0.584656</td>\n",
       "      <td>0.368395</td>\n",
       "      <td>0.066993</td>\n",
       "    </tr>\n",
       "    <tr>\n",
       "      <th>d</th>\n",
       "      <td>0.941695</td>\n",
       "      <td>0.779480</td>\n",
       "      <td>0.905119</td>\n",
       "      <td>0.298732</td>\n",
       "      <td>0.213548</td>\n",
       "      <td>0.988150</td>\n",
       "    </tr>\n",
       "    <tr>\n",
       "      <th>e</th>\n",
       "      <td>0.283883</td>\n",
       "      <td>0.104844</td>\n",
       "      <td>0.474542</td>\n",
       "      <td>0.186237</td>\n",
       "      <td>0.648164</td>\n",
       "      <td>0.521658</td>\n",
       "    </tr>\n",
       "  </tbody>\n",
       "</table>\n",
       "</div>"
      ],
      "text/plain": [
       "       col1      col2      col3      col4      col5      col6\n",
       "a  0.146414  0.254635  0.038519  0.022567  0.171244  0.233217\n",
       "b  0.743896  0.106612  0.841417  0.134216  0.788160  0.309569\n",
       "c  0.527088  0.722814  0.653498  0.584656  0.368395  0.066993\n",
       "d  0.941695  0.779480  0.905119  0.298732  0.213548  0.988150\n",
       "e  0.283883  0.104844  0.474542  0.186237  0.648164  0.521658"
      ]
     },
     "execution_count": 49,
     "metadata": {},
     "output_type": "execute_result"
    }
   ],
   "source": [
    "df.head()"
   ]
  },
  {
   "cell_type": "code",
   "execution_count": 50,
   "id": "87b6e555-072b-43ee-bebd-21fb7d06d38f",
   "metadata": {},
   "outputs": [
    {
     "data": {
      "text/html": [
       "<div>\n",
       "<style scoped>\n",
       "    .dataframe tbody tr th:only-of-type {\n",
       "        vertical-align: middle;\n",
       "    }\n",
       "\n",
       "    .dataframe tbody tr th {\n",
       "        vertical-align: top;\n",
       "    }\n",
       "\n",
       "    .dataframe thead th {\n",
       "        text-align: right;\n",
       "    }\n",
       "</style>\n",
       "<table border=\"1\" class=\"dataframe\">\n",
       "  <thead>\n",
       "    <tr style=\"text-align: right;\">\n",
       "      <th></th>\n",
       "      <th>col1</th>\n",
       "      <th>col2</th>\n",
       "      <th>col3</th>\n",
       "      <th>col4</th>\n",
       "      <th>col5</th>\n",
       "      <th>col6</th>\n",
       "    </tr>\n",
       "  </thead>\n",
       "  <tbody>\n",
       "    <tr>\n",
       "      <th>count</th>\n",
       "      <td>5.000000</td>\n",
       "      <td>5.000000</td>\n",
       "      <td>5.000000</td>\n",
       "      <td>5.000000</td>\n",
       "      <td>5.000000</td>\n",
       "      <td>5.000000</td>\n",
       "    </tr>\n",
       "    <tr>\n",
       "      <th>mean</th>\n",
       "      <td>0.528595</td>\n",
       "      <td>0.393677</td>\n",
       "      <td>0.582619</td>\n",
       "      <td>0.245282</td>\n",
       "      <td>0.437902</td>\n",
       "      <td>0.423917</td>\n",
       "    </tr>\n",
       "    <tr>\n",
       "      <th>std</th>\n",
       "      <td>0.325175</td>\n",
       "      <td>0.332543</td>\n",
       "      <td>0.347754</td>\n",
       "      <td>0.214159</td>\n",
       "      <td>0.270723</td>\n",
       "      <td>0.355228</td>\n",
       "    </tr>\n",
       "    <tr>\n",
       "      <th>min</th>\n",
       "      <td>0.146414</td>\n",
       "      <td>0.104844</td>\n",
       "      <td>0.038519</td>\n",
       "      <td>0.022567</td>\n",
       "      <td>0.171244</td>\n",
       "      <td>0.066993</td>\n",
       "    </tr>\n",
       "    <tr>\n",
       "      <th>25%</th>\n",
       "      <td>0.283883</td>\n",
       "      <td>0.106612</td>\n",
       "      <td>0.474542</td>\n",
       "      <td>0.134216</td>\n",
       "      <td>0.213548</td>\n",
       "      <td>0.233217</td>\n",
       "    </tr>\n",
       "    <tr>\n",
       "      <th>50%</th>\n",
       "      <td>0.527088</td>\n",
       "      <td>0.254635</td>\n",
       "      <td>0.653498</td>\n",
       "      <td>0.186237</td>\n",
       "      <td>0.368395</td>\n",
       "      <td>0.309569</td>\n",
       "    </tr>\n",
       "    <tr>\n",
       "      <th>75%</th>\n",
       "      <td>0.743896</td>\n",
       "      <td>0.722814</td>\n",
       "      <td>0.841417</td>\n",
       "      <td>0.298732</td>\n",
       "      <td>0.648164</td>\n",
       "      <td>0.521658</td>\n",
       "    </tr>\n",
       "    <tr>\n",
       "      <th>max</th>\n",
       "      <td>0.941695</td>\n",
       "      <td>0.779480</td>\n",
       "      <td>0.905119</td>\n",
       "      <td>0.584656</td>\n",
       "      <td>0.788160</td>\n",
       "      <td>0.988150</td>\n",
       "    </tr>\n",
       "  </tbody>\n",
       "</table>\n",
       "</div>"
      ],
      "text/plain": [
       "           col1      col2      col3      col4      col5      col6\n",
       "count  5.000000  5.000000  5.000000  5.000000  5.000000  5.000000\n",
       "mean   0.528595  0.393677  0.582619  0.245282  0.437902  0.423917\n",
       "std    0.325175  0.332543  0.347754  0.214159  0.270723  0.355228\n",
       "min    0.146414  0.104844  0.038519  0.022567  0.171244  0.066993\n",
       "25%    0.283883  0.106612  0.474542  0.134216  0.213548  0.233217\n",
       "50%    0.527088  0.254635  0.653498  0.186237  0.368395  0.309569\n",
       "75%    0.743896  0.722814  0.841417  0.298732  0.648164  0.521658\n",
       "max    0.941695  0.779480  0.905119  0.584656  0.788160  0.988150"
      ]
     },
     "execution_count": 50,
     "metadata": {},
     "output_type": "execute_result"
    }
   ],
   "source": [
    "df.describe()"
   ]
  },
  {
   "cell_type": "code",
   "execution_count": 51,
   "id": "2528cf80-3ba5-47df-a8b9-297c994dfb29",
   "metadata": {},
   "outputs": [],
   "source": [
    "data=('col1,col2,col3\\n''x,y,z\\n''c,d,3'\n",
    "     )"
   ]
  },
  {
   "cell_type": "code",
   "execution_count": 52,
   "id": "59da39ea-fe4a-475b-bb46-70a14a3cb35c",
   "metadata": {},
   "outputs": [
    {
     "data": {
      "text/plain": [
       "str"
      ]
     },
     "execution_count": 52,
     "metadata": {},
     "output_type": "execute_result"
    }
   ],
   "source": [
    "type(data)"
   ]
  },
  {
   "cell_type": "code",
   "execution_count": 66,
   "id": "0c98441d-1c04-4dbb-8f19-b1263334d107",
   "metadata": {},
   "outputs": [],
   "source": [
    "df=pd.read_csv(StringIO(data),usecols=['col1','col2'])"
   ]
  },
  {
   "cell_type": "code",
   "execution_count": 68,
   "id": "5b6d9431-f945-48a3-949e-e28f0acef2b4",
   "metadata": {},
   "outputs": [],
   "source": [
    "df.to_csv('tutorial6.csv')"
   ]
  },
  {
   "cell_type": "code",
   "execution_count": 74,
   "id": "b1a7bcc2-1b34-4a72-8be8-23f932ef5641",
   "metadata": {},
   "outputs": [],
   "source": [
    "data2=('a,b,c\\n' '1,2,3\\n' '1,2,3\\n' '1,2,3\\n')"
   ]
  },
  {
   "cell_type": "code",
   "execution_count": 100,
   "id": "de649f06-1dc8-47d9-8a84-0453b17d1278",
   "metadata": {},
   "outputs": [
    {
     "data": {
      "text/plain": [
       "a    object\n",
       "b    object\n",
       "c    object\n",
       "dtype: object"
      ]
     },
     "execution_count": 100,
     "metadata": {},
     "output_type": "execute_result"
    }
   ],
   "source": [
    "df2=pd.read_csv(StringIO(data2),dtype=object)\n",
    "df2\n",
    "df2.dtypes\n",
    "\n"
   ]
  },
  {
   "cell_type": "code",
   "execution_count": 122,
   "id": "5fa0d35a-4351-4511-8303-30bd9b2e574b",
   "metadata": {},
   "outputs": [],
   "source": [
    "# make any column as index column df2=pd.read_csv(StringIO(data2),index_col=1)"
   ]
  },
  {
   "cell_type": "code",
   "execution_count": 130,
   "id": "c56d0a4b-42b6-419c-9835-6bf2f00d1de6",
   "metadata": {},
   "outputs": [
    {
     "data": {
      "text/html": [
       "<div>\n",
       "<style scoped>\n",
       "    .dataframe tbody tr th:only-of-type {\n",
       "        vertical-align: middle;\n",
       "    }\n",
       "\n",
       "    .dataframe tbody tr th {\n",
       "        vertical-align: top;\n",
       "    }\n",
       "\n",
       "    .dataframe thead th {\n",
       "        text-align: right;\n",
       "    }\n",
       "</style>\n",
       "<table border=\"1\" class=\"dataframe\">\n",
       "  <thead>\n",
       "    <tr style=\"text-align: right;\">\n",
       "      <th></th>\n",
       "      <th>a</th>\n",
       "      <th>b</th>\n",
       "      <th>c</th>\n",
       "    </tr>\n",
       "  </thead>\n",
       "  <tbody>\n",
       "    <tr>\n",
       "      <th>0</th>\n",
       "      <td>1</td>\n",
       "      <td>2</td>\n",
       "      <td>3</td>\n",
       "    </tr>\n",
       "    <tr>\n",
       "      <th>1</th>\n",
       "      <td>1</td>\n",
       "      <td>2</td>\n",
       "      <td>3</td>\n",
       "    </tr>\n",
       "    <tr>\n",
       "      <th>2</th>\n",
       "      <td>1</td>\n",
       "      <td>2</td>\n",
       "      <td>3</td>\n",
       "    </tr>\n",
       "  </tbody>\n",
       "</table>\n",
       "</div>"
      ],
      "text/plain": [
       "   a  b  c\n",
       "0  1  2  3\n",
       "1  1  2  3\n",
       "2  1  2  3"
      ]
     },
     "execution_count": 130,
     "metadata": {},
     "output_type": "execute_result"
    }
   ],
   "source": [
    "df2=pd.read_csv(StringIO(data2))\n",
    "df2"
   ]
  },
  {
   "cell_type": "code",
   "execution_count": 134,
   "id": "6c94160f-c7ee-4581-9544-74c2bf077a37",
   "metadata": {},
   "outputs": [
    {
     "data": {
      "text/html": [
       "<div>\n",
       "<style scoped>\n",
       "    .dataframe tbody tr th:only-of-type {\n",
       "        vertical-align: middle;\n",
       "    }\n",
       "\n",
       "    .dataframe tbody tr th {\n",
       "        vertical-align: top;\n",
       "    }\n",
       "\n",
       "    .dataframe thead th {\n",
       "        text-align: right;\n",
       "    }\n",
       "</style>\n",
       "<table border=\"1\" class=\"dataframe\">\n",
       "  <thead>\n",
       "    <tr style=\"text-align: right;\">\n",
       "      <th></th>\n",
       "      <th>a</th>\n",
       "      <th>c</th>\n",
       "    </tr>\n",
       "    <tr>\n",
       "      <th>b</th>\n",
       "      <th></th>\n",
       "      <th></th>\n",
       "    </tr>\n",
       "  </thead>\n",
       "  <tbody>\n",
       "    <tr>\n",
       "      <th>2</th>\n",
       "      <td>1</td>\n",
       "      <td>3</td>\n",
       "    </tr>\n",
       "    <tr>\n",
       "      <th>2</th>\n",
       "      <td>1</td>\n",
       "      <td>3</td>\n",
       "    </tr>\n",
       "    <tr>\n",
       "      <th>2</th>\n",
       "      <td>1</td>\n",
       "      <td>3</td>\n",
       "    </tr>\n",
       "  </tbody>\n",
       "</table>\n",
       "</div>"
      ],
      "text/plain": [
       "   a  c\n",
       "b      \n",
       "2  1  3\n",
       "2  1  3\n",
       "2  1  3"
      ]
     },
     "execution_count": 134,
     "metadata": {},
     "output_type": "execute_result"
    }
   ],
   "source": [
    "df2=pd.read_csv(StringIO(data2),index_col=1)\n",
    "df2"
   ]
  },
  {
   "cell_type": "code",
   "execution_count": 150,
   "id": "d4913296-4283-43a3-a5e9-395664d917bb",
   "metadata": {},
   "outputs": [
    {
     "data": {
      "text/html": [
       "<div>\n",
       "<style scoped>\n",
       "    .dataframe tbody tr th:only-of-type {\n",
       "        vertical-align: middle;\n",
       "    }\n",
       "\n",
       "    .dataframe tbody tr th {\n",
       "        vertical-align: top;\n",
       "    }\n",
       "\n",
       "    .dataframe thead th {\n",
       "        text-align: right;\n",
       "    }\n",
       "</style>\n",
       "<table border=\"1\" class=\"dataframe\">\n",
       "  <thead>\n",
       "    <tr style=\"text-align: right;\">\n",
       "      <th></th>\n",
       "      <th></th>\n",
       "      <th>a</th>\n",
       "      <th>b</th>\n",
       "    </tr>\n",
       "  </thead>\n",
       "  <tbody>\n",
       "    <tr>\n",
       "      <th>\"hello</th>\n",
       "      <th>\"bob\"</th>\n",
       "      <td>nice to see you\"</td>\n",
       "      <td>5</td>\n",
       "    </tr>\n",
       "  </tbody>\n",
       "</table>\n",
       "</div>"
      ],
      "text/plain": [
       "                             a  b\n",
       "\"hello \"bob\"  nice to see you\"  5"
      ]
     },
     "execution_count": 150,
     "metadata": {},
     "output_type": "execute_result"
    }
   ],
   "source": [
    "data3='a,b\\n \"hello,\\\\\"bob\\\\\",nice to see you\",5'\n",
    "df3=pd.read_csv(StringIO(data3),escapechar='\\\\',dtype=object)\n",
    "df3"
   ]
  },
  {
   "cell_type": "code",
   "execution_count": 174,
   "id": "7b99cfcf-36e3-4291-ab62-fa9ac84bab3e",
   "metadata": {},
   "outputs": [
    {
     "data": {
      "text/html": [
       "<div>\n",
       "<style scoped>\n",
       "    .dataframe tbody tr th:only-of-type {\n",
       "        vertical-align: middle;\n",
       "    }\n",
       "\n",
       "    .dataframe tbody tr th {\n",
       "        vertical-align: top;\n",
       "    }\n",
       "\n",
       "    .dataframe thead th {\n",
       "        text-align: right;\n",
       "    }\n",
       "</style>\n",
       "<table border=\"1\" class=\"dataframe\">\n",
       "  <thead>\n",
       "    <tr style=\"text-align: right;\">\n",
       "      <th></th>\n",
       "      <th>Industry</th>\n",
       "    </tr>\n",
       "  </thead>\n",
       "  <tbody>\n",
       "    <tr>\n",
       "      <th>0</th>\n",
       "      <td>Accounting/Finance</td>\n",
       "    </tr>\n",
       "    <tr>\n",
       "      <th>1</th>\n",
       "      <td>Advertising/Public Relations</td>\n",
       "    </tr>\n",
       "    <tr>\n",
       "      <th>2</th>\n",
       "      <td>Aerospace/Aviation</td>\n",
       "    </tr>\n",
       "    <tr>\n",
       "      <th>3</th>\n",
       "      <td>Arts/Entertainment/Publishing</td>\n",
       "    </tr>\n",
       "  </tbody>\n",
       "</table>\n",
       "</div>"
      ],
      "text/plain": [
       "                        Industry\n",
       "0             Accounting/Finance\n",
       "1   Advertising/Public Relations\n",
       "2             Aerospace/Aviation\n",
       "3  Arts/Entertainment/Publishing"
      ]
     },
     "execution_count": 174,
     "metadata": {},
     "output_type": "execute_result"
    }
   ],
   "source": [
    "df3=pd.read_csv(\"industry.csv\",dtype=object)\n",
    "df3.head(4)"
   ]
  },
  {
   "cell_type": "code",
   "execution_count": 198,
   "id": "6ecae2e1-5c71-47d4-8800-4d2d53d7385e",
   "metadata": {},
   "outputs": [],
   "source": [
    "csv_data = \"\"\"Name,Age,\\\\Department,\\\\Salary\n",
    "John Doe,28,Engineering,\\\\50000\n",
    "Jane Smith,34,Marketing,\\t60000\n",
    "Sam Wilson,41,Human Resources,\\t45000\n",
    "Lisa Brown,25,Engineering,52000\n",
    "Michael Johnson ,38,Sales,58000\n",
    "\"\"\""
   ]
  },
  {
   "cell_type": "code",
   "execution_count": 206,
   "id": "2b231d20-043c-460f-b978-521c375c3063",
   "metadata": {},
   "outputs": [
    {
     "data": {
      "text/html": [
       "<div>\n",
       "<style scoped>\n",
       "    .dataframe tbody tr th:only-of-type {\n",
       "        vertical-align: middle;\n",
       "    }\n",
       "\n",
       "    .dataframe tbody tr th {\n",
       "        vertical-align: top;\n",
       "    }\n",
       "\n",
       "    .dataframe thead th {\n",
       "        text-align: right;\n",
       "    }\n",
       "</style>\n",
       "<table border=\"1\" class=\"dataframe\">\n",
       "  <thead>\n",
       "    <tr style=\"text-align: right;\">\n",
       "      <th></th>\n",
       "      <th>Name</th>\n",
       "      <th>Age</th>\n",
       "      <th>Department</th>\n",
       "      <th>Salary</th>\n",
       "    </tr>\n",
       "  </thead>\n",
       "  <tbody>\n",
       "    <tr>\n",
       "      <th>0</th>\n",
       "      <td>John Doe</td>\n",
       "      <td>28</td>\n",
       "      <td>Engineering</td>\n",
       "      <td>50000</td>\n",
       "    </tr>\n",
       "    <tr>\n",
       "      <th>1</th>\n",
       "      <td>Jane Smith</td>\n",
       "      <td>34</td>\n",
       "      <td>Marketing</td>\n",
       "      <td>60000</td>\n",
       "    </tr>\n",
       "    <tr>\n",
       "      <th>2</th>\n",
       "      <td>Sam Wilson</td>\n",
       "      <td>41</td>\n",
       "      <td>Human Resources</td>\n",
       "      <td>45000</td>\n",
       "    </tr>\n",
       "    <tr>\n",
       "      <th>3</th>\n",
       "      <td>Lisa Brown</td>\n",
       "      <td>25</td>\n",
       "      <td>Engineering</td>\n",
       "      <td>52000</td>\n",
       "    </tr>\n",
       "    <tr>\n",
       "      <th>4</th>\n",
       "      <td>Michael Johnson</td>\n",
       "      <td>38</td>\n",
       "      <td>Sales</td>\n",
       "      <td>58000</td>\n",
       "    </tr>\n",
       "  </tbody>\n",
       "</table>\n",
       "</div>"
      ],
      "text/plain": [
       "               Name  Age       Department  Salary\n",
       "0          John Doe   28      Engineering   50000\n",
       "1        Jane Smith   34        Marketing   60000\n",
       "2        Sam Wilson   41  Human Resources   45000\n",
       "3        Lisa Brown   25      Engineering   52000\n",
       "4  Michael Johnson    38            Sales   58000"
      ]
     },
     "execution_count": 206,
     "metadata": {},
     "output_type": "execute_result"
    }
   ],
   "source": [
    "df4=pd.read_csv(StringIO(csv_data),escapechar='\\\\')\n",
    "df4"
   ]
  },
  {
   "cell_type": "code",
   "execution_count": 1,
   "id": "a98e8b44-5425-4fed-9dfa-16f6cf997d26",
   "metadata": {},
   "outputs": [],
   "source": [
    "data = \"\"\"Name\\tAge\\tOccupation\n",
    "John\\t28\\tEngineer\n",
    "Anna\\t25\\tDoctor\n",
    "Mike\\t30\\tArtist\n",
    "// Comment line\n",
    "Sara\\t22\\tDesigner\n",
    "\"\"\"\n"
   ]
  },
  {
   "cell_type": "code",
   "execution_count": 29,
   "id": "bcccd23b-6a49-4ea0-95e3-ac18c3db4210",
   "metadata": {},
   "outputs": [
    {
     "data": {
      "text/html": [
       "<div>\n",
       "<style scoped>\n",
       "    .dataframe tbody tr th:only-of-type {\n",
       "        vertical-align: middle;\n",
       "    }\n",
       "\n",
       "    .dataframe tbody tr th {\n",
       "        vertical-align: top;\n",
       "    }\n",
       "\n",
       "    .dataframe thead th {\n",
       "        text-align: right;\n",
       "    }\n",
       "</style>\n",
       "<table border=\"1\" class=\"dataframe\">\n",
       "  <thead>\n",
       "    <tr style=\"text-align: right;\">\n",
       "      <th></th>\n",
       "      <th>Name</th>\n",
       "      <th>Age</th>\n",
       "      <th>Occupation</th>\n",
       "    </tr>\n",
       "  </thead>\n",
       "  <tbody>\n",
       "    <tr>\n",
       "      <th>0</th>\n",
       "      <td>John</td>\n",
       "      <td>28.0</td>\n",
       "      <td>Engineer</td>\n",
       "    </tr>\n",
       "    <tr>\n",
       "      <th>1</th>\n",
       "      <td>Anna</td>\n",
       "      <td>25.0</td>\n",
       "      <td>Doctor</td>\n",
       "    </tr>\n",
       "  </tbody>\n",
       "</table>\n",
       "</div>"
      ],
      "text/plain": [
       "   Name   Age Occupation\n",
       "0  John  28.0   Engineer\n",
       "1  Anna  25.0     Doctor"
      ]
     },
     "execution_count": 29,
     "metadata": {},
     "output_type": "execute_result"
    }
   ],
   "source": [
    "s=pd.read_csv(StringIO(data),sep=\"\\t\")\n",
    "s.head(2)"
   ]
  },
  {
   "cell_type": "code",
   "execution_count": 37,
   "id": "9cb307a7-0a3b-491a-a370-ddcaadc7d663",
   "metadata": {},
   "outputs": [],
   "source": [
    "s.to_csv(\"t6practice.csv\")"
   ]
  }
 ],
 "metadata": {
  "kernelspec": {
   "display_name": "Python 3 (ipykernel)",
   "language": "python",
   "name": "python3"
  },
  "language_info": {
   "codemirror_mode": {
    "name": "ipython",
    "version": 3
   },
   "file_extension": ".py",
   "mimetype": "text/x-python",
   "name": "python",
   "nbconvert_exporter": "python",
   "pygments_lexer": "ipython3",
   "version": "3.12.4"
  }
 },
 "nbformat": 4,
 "nbformat_minor": 5
}
