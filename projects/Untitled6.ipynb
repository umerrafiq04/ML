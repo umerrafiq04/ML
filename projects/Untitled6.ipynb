{
 "cells": [
  {
   "cell_type": "code",
   "execution_count": 3,
   "id": "d2bba031-4d5d-45fc-b9be-5873ad88c3dd",
   "metadata": {},
   "outputs": [
    {
     "name": "stdin",
     "output_type": "stream",
     "text": [
      "Enter values separated by spaces:  1 2 3 4 \n"
     ]
    },
    {
     "name": "stdout",
     "output_type": "stream",
     "text": [
      "You entered: [1, 2, 3, 4]\n"
     ]
    }
   ],
   "source": [
    "# Taking multiple inputs in a single line\n",
    "inputs = input(\"Enter values separated by spaces: \").split()\n",
    "\n",
    "# Convert to integers if needed\n",
    "numbers = list(map(int, inputs))\n",
    "\n",
    "print(\"You entered:\", numbers)\n"
   ]
  },
  {
   "cell_type": "code",
   "execution_count": 11,
   "id": "50b4e223-c163-4a1d-bc80-fd88c999974a",
   "metadata": {},
   "outputs": [
    {
     "name": "stdout",
     "output_type": "stream",
     "text": [
      "enter elements\n",
      ":\n"
     ]
    },
    {
     "name": "stdin",
     "output_type": "stream",
     "text": [
      " 12\n",
      " 2\n",
      " 1\n",
      " \n",
      " 3\n",
      " \n",
      " 3\n",
      " \n",
      " 4\n",
      " \n"
     ]
    },
    {
     "ename": "NameError",
     "evalue": "name 'np' is not defined",
     "output_type": "error",
     "traceback": [
      "\u001b[1;31m---------------------------------------------------------------------------\u001b[0m",
      "\u001b[1;31mNameError\u001b[0m                                 Traceback (most recent call last)",
      "Cell \u001b[1;32mIn[11], line 8\u001b[0m\n\u001b[0;32m      4\u001b[0m     d\u001b[38;5;241m=\u001b[39m\u001b[38;5;28minput\u001b[39m()\n\u001b[0;32m      5\u001b[0m     arr\u001b[38;5;241m.\u001b[39mappend(d)\n\u001b[1;32m----> 8\u001b[0m t\u001b[38;5;241m=\u001b[39mnp\u001b[38;5;241m.\u001b[39marray(arr)\n\u001b[0;32m      9\u001b[0m \u001b[38;5;28;01mfor\u001b[39;00m i \u001b[38;5;129;01min\u001b[39;00m t:\n\u001b[0;32m     10\u001b[0m     \u001b[38;5;28mprint\u001b[39m(i)\n",
      "\u001b[1;31mNameError\u001b[0m: name 'np' is not defined"
     ]
    }
   ],
   "source": [
    "print(\"enter elements\\n:\")\n",
    "arr=[]\n",
    "for i in range(10):\n",
    "    d=input()\n",
    "    arr.append(d)\n",
    "\n",
    "\n",
    "t=np.array(arr)\n",
    "for i in t:\n",
    "    print(i)    \n",
    "    "
   ]
  },
  {
   "cell_type": "code",
   "execution_count": null,
   "id": "846e8ba0-c9b3-4654-8607-aa84ec4d14df",
   "metadata": {},
   "outputs": [],
   "source": []
  },
  {
   "cell_type": "code",
   "execution_count": null,
   "id": "96089ffd-896c-4faf-9b7b-6530d762e38d",
   "metadata": {},
   "outputs": [],
   "source": []
  },
  {
   "cell_type": "code",
   "execution_count": null,
   "id": "890f9544-ce5e-4ab6-8a11-98ecf08b002b",
   "metadata": {},
   "outputs": [],
   "source": []
  }
 ],
 "metadata": {
  "kernelspec": {
   "display_name": "Python 3 (ipykernel)",
   "language": "python",
   "name": "python3"
  },
  "language_info": {
   "codemirror_mode": {
    "name": "ipython",
    "version": 3
   },
   "file_extension": ".py",
   "mimetype": "text/x-python",
   "name": "python",
   "nbconvert_exporter": "python",
   "pygments_lexer": "ipython3",
   "version": "3.12.4"
  }
 },
 "nbformat": 4,
 "nbformat_minor": 5
}
