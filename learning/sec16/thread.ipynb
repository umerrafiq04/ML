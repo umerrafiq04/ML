{
 "cells": [
  {
   "cell_type": "code",
   "execution_count": 1,
   "metadata": {},
   "outputs": [],
   "source": [
    "import threading as td\n",
    "import time"
   ]
  },
  {
   "cell_type": "code",
   "execution_count": null,
   "metadata": {},
   "outputs": [
    {
     "name": "stdout",
     "output_type": "stream",
     "text": [
      "0\n",
      "1\n",
      "2\n",
      "3\n",
      "4\n",
      "5\n",
      "6\n",
      "7\n",
      "8\n",
      "9\n",
      "a\n",
      "b\n",
      "c\n",
      "d\n",
      "e\n",
      "30.014923572540283\n"
     ]
    }
   ],
   "source": [
    "# 1)\n",
    "def numbers():\n",
    "    for i in range(10):\n",
    "        time.sleep(2)  #assume it as a io operation\n",
    "        print(i)\n",
    "\n",
    "#2)\n",
    "def letters():\n",
    "    for i in \"abcde\":\n",
    "        time.sleep(2)\n",
    "        print(i)\n",
    "\n",
    "t=time.time()\n",
    "numbers()\n",
    "letters()\n",
    "finished=time.time()-t\n",
    "print(finished)\n",
    "\n",
    "\n",
    "# allowing 2 to run instead of waiting for completion of 1\n",
    "# solution:-->will create 2 threads for 1 and 2"
   ]
  },
  {
   "cell_type": "code",
   "execution_count": 7,
   "metadata": {},
   "outputs": [
    {
     "name": "stdout",
     "output_type": "stream",
     "text": [
      "0a\n",
      "\n",
      "1b\n",
      "\n",
      "c2\n",
      "\n",
      "3\n",
      "d\n",
      "4\n",
      "e\n",
      "10.02706241607666\n"
     ]
    }
   ],
   "source": [
    "# 1)\n",
    "def numbers():\n",
    "    for i in range(5):\n",
    "        time.sleep(2)  #assume it as a io operation\n",
    "        print(i)\n",
    "\n",
    "#2)\n",
    "def letters():\n",
    "    for i in \"abcde\":\n",
    "        time.sleep(2)\n",
    "        print(i)\n",
    "#creating 2 threads\n",
    "t1=td.Thread(target=numbers)\n",
    "t2=td.Thread(target=letters)\n",
    "\n",
    "t=time.time()\n",
    "## start thread\n",
    "t1.start()\n",
    "t2.start()\n",
    "# wait for the threads to complete\n",
    "t1.join()\n",
    "t2.join()\n",
    "finished=time.time()-t\n",
    "print(finished)"
   ]
  }
 ],
 "metadata": {
  "kernelspec": {
   "display_name": "base",
   "language": "python",
   "name": "python3"
  },
  "language_info": {
   "codemirror_mode": {
    "name": "ipython",
    "version": 3
   },
   "file_extension": ".py",
   "mimetype": "text/x-python",
   "name": "python",
   "nbconvert_exporter": "python",
   "pygments_lexer": "ipython3",
   "version": "3.12.4"
  }
 },
 "nbformat": 4,
 "nbformat_minor": 2
}
