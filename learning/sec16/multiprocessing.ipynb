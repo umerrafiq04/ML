{
 "cells": [
  {
   "cell_type": "code",
   "execution_count": 7,
   "metadata": {},
   "outputs": [],
   "source": [
    "import multiprocessing\n",
    "import time\n"
   ]
  },
  {
   "cell_type": "code",
   "execution_count": null,
   "metadata": {},
   "outputs": [
    {
     "name": "stdout",
     "output_type": "stream",
     "text": [
      "time = 0.29 seconds\n"
     ]
    }
   ],
   "source": [
    "import multiprocessing\n",
    "import time\n",
    "\n",
    "def sq():\n",
    "    for i in range(10):\n",
    "        time.sleep(1)\n",
    "        print(f\"square: {i*i}\", flush=True)\n",
    "\n",
    "def cb():\n",
    "    for i in range(10):\n",
    "        time.sleep(1)\n",
    "        print(f\"cube: {i*i*i}\", flush=True)\n",
    "\n",
    "# create 2 processes\n",
    "if __name__ == \"__main__\":\n",
    "    p1 = multiprocessing.Process(target=sq)    \n",
    "    p2 = multiprocessing.Process(target=cb) \n",
    "\n",
    "    t = time.time()\n",
    "\n",
    "    p1.start()\n",
    "    p2.start()\n",
    "\n",
    "    p1.join()\n",
    "    p2.join()\n",
    "\n",
    "    ft = time.time() - t\n",
    "    print(f\"time = {ft:.2f} seconds\")\n",
    "\n",
    "\n",
    "    # check @mu.py file\n",
    "    \n",
    "\n"
   ]
  },
  {
   "cell_type": "code",
   "execution_count": null,
   "metadata": {},
   "outputs": [],
   "source": []
  }
 ],
 "metadata": {
  "kernelspec": {
   "display_name": "base",
   "language": "python",
   "name": "python3"
  },
  "language_info": {
   "codemirror_mode": {
    "name": "ipython",
    "version": 3
   },
   "file_extension": ".py",
   "mimetype": "text/x-python",
   "name": "python",
   "nbconvert_exporter": "python",
   "pygments_lexer": "ipython3",
   "version": "3.12.4"
  }
 },
 "nbformat": 4,
 "nbformat_minor": 2
}
