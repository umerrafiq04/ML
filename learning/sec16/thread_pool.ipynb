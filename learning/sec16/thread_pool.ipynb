{
 "cells": [
  {
   "cell_type": "code",
   "execution_count": 1,
   "metadata": {},
   "outputs": [
    {
     "name": "stdout",
     "output_type": "stream",
     "text": [
      "number:1\n",
      "number:2\n",
      "number:3\n",
      "number:2\n",
      "number:3\n",
      "number:4\n",
      "number:5\n",
      "number:2\n",
      "number:34\n",
      "number:4\n",
      "number:4\n",
      "number:5\n",
      "number:76\n",
      "number:8\n",
      "number:99\n",
      "number:9\n",
      "number:0\n"
     ]
    }
   ],
   "source": [
    "# multithreadin with thread pool executor\n",
    "from concurrent.futures import ThreadPoolExecutor\n",
    "import time\n",
    "def print_nums(numbs):\n",
    "    time.sleep(1)\n",
    "    return f\"number:{numbs}\"\n",
    "\n",
    "numbers=[1,2,3,2,3,4,5,2,34,4,4,5,76,8,99,9,0,]\n",
    "with ThreadPoolExecutor(max_workers=3) as executor:\n",
    "    results=executor.map(print_nums,numbers)\n",
    "\n",
    "for result in results:\n",
    "    print(result)\n"
   ]
  }
 ],
 "metadata": {
  "kernelspec": {
   "display_name": "base",
   "language": "python",
   "name": "python3"
  },
  "language_info": {
   "codemirror_mode": {
    "name": "ipython",
    "version": 3
   },
   "file_extension": ".py",
   "mimetype": "text/x-python",
   "name": "python",
   "nbconvert_exporter": "python",
   "pygments_lexer": "ipython3",
   "version": "3.12.4"
  }
 },
 "nbformat": 4,
 "nbformat_minor": 2
}
