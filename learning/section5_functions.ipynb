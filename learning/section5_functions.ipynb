{
 "cells": [
  {
   "cell_type": "markdown",
   "id": "7468ca09-950c-4320-a790-bca9f5acfbea",
   "metadata": {},
   "source": [
    "* 24/12/24\n",
    "# lambda function:\n",
    "* small anonymous function with only one expression"
   ]
  },
  {
   "cell_type": "code",
   "execution_count": 3,
   "id": "711a2250-d067-4018-93ff-917c7f45acab",
   "metadata": {},
   "outputs": [
    {
     "name": "stdout",
     "output_type": "stream",
     "text": [
      "10\n"
     ]
    }
   ],
   "source": [
    "def add(a,b):\n",
    "    return a+b\n",
    "print(add(4,6))"
   ]
  },
  {
   "cell_type": "markdown",
   "id": "6f927f13-3a6b-4606-899d-da4ce0a66c9c",
   "metadata": {},
   "source": [
    "# add= lambda arguments:operation/expression"
   ]
  },
  {
   "cell_type": "code",
   "execution_count": 10,
   "id": "373c45d3-42ac-4269-bf9d-fced1b662f9f",
   "metadata": {},
   "outputs": [
    {
     "name": "stdout",
     "output_type": "stream",
     "text": [
      "9\n"
     ]
    }
   ],
   "source": [
    "add=lambda a,b:a+b\n",
    "print(add(2,7))"
   ]
  },
  {
   "cell_type": "code",
   "execution_count": 12,
   "id": "d9acef55-4f63-4f63-bbc8-17e9595a189e",
   "metadata": {},
   "outputs": [
    {
     "name": "stdout",
     "output_type": "stream",
     "text": [
      "65\n"
     ]
    }
   ],
   "source": [
    "add=lambda *a:sum(a)\n",
    "print(add(2,3,4,56))"
   ]
  },
  {
   "cell_type": "markdown",
   "id": "479a0098-3128-4a05-834e-e2a9ff0165ab",
   "metadata": {},
   "source": [
    "#  lambda with map"
   ]
  },
  {
   "cell_type": "code",
   "execution_count": 20,
   "id": "fdf57ce6-680f-4bf8-bfbe-e882adbacaa1",
   "metadata": {},
   "outputs": [
    {
     "data": {
      "text/plain": [
       "[1, 4, 9, 16, 25]"
      ]
     },
     "execution_count": 20,
     "metadata": {},
     "output_type": "execute_result"
    }
   ],
   "source": [
    "# square of a number : other than for loop\n",
    "list1=[1,2,3,4,5]\n",
    "list(map(lambda a:a**2,list1))\n"
   ]
  },
  {
   "cell_type": "markdown",
   "id": "9d55ce14-3af6-475a-8ba3-b387ee8f9fcf",
   "metadata": {},
   "source": [
    "#  map function:\n",
    "* applies function to each item in an input list(any iterable) and returns a map object(an iterator),useful for transforming data in a list comprehensivey"
   ]
  },
  {
   "cell_type": "code",
   "execution_count": 30,
   "id": "438092b1-db27-4e0e-ba2c-1b6caa0323a2",
   "metadata": {},
   "outputs": [
    {
     "data": {
      "text/plain": [
       "[121, 4, 9, 16, 25, 36]"
      ]
     },
     "execution_count": 30,
     "metadata": {},
     "output_type": "execute_result"
    }
   ],
   "source": [
    "def square(a):\n",
    "    return a**2\n",
    "\n",
    "number=[11,2,3,4,5,6]\n",
    "list(map(square,number))\n"
   ]
  },
  {
   "cell_type": "code",
   "execution_count": 37,
   "id": "e3d60903-696f-4015-992b-821dbb9a4e2c",
   "metadata": {},
   "outputs": [
    {
     "data": {
      "text/plain": [
       "[5, 7, 9]"
      ]
     },
     "execution_count": 37,
     "metadata": {},
     "output_type": "execute_result"
    }
   ],
   "source": [
    "# map multiple iterables\n",
    "num1=[1,2,3]\n",
    "num2=[4,5,6]\n",
    "# output = [5,7,9]\n",
    "\n",
    "list(map(lambda x,y:x+y,num1,num2))\n"
   ]
  },
  {
   "cell_type": "code",
   "execution_count": 39,
   "id": "d81d8c9f-f81b-4815-87b7-79cae7e61a8f",
   "metadata": {},
   "outputs": [
    {
     "data": {
      "text/plain": [
       "[1, 2, 3, 4]"
      ]
     },
     "execution_count": 39,
     "metadata": {},
     "output_type": "execute_result"
    }
   ],
   "source": [
    "# convert string to integer\n",
    "num=['1','2','3','4']\n",
    "list(map(int,num))"
   ]
  },
  {
   "cell_type": "code",
   "execution_count": 43,
   "id": "ad51ba38-1526-4f5c-b38e-c64899c6e5d2",
   "metadata": {},
   "outputs": [
    {
     "name": "stdout",
     "output_type": "stream",
     "text": [
      "['APPLE', 'BANANA', 'MANGO']\n"
     ]
    }
   ],
   "source": [
    "# lowercase to upper\n",
    "words=['apple','banana','mango']\n",
    "upper=list(map(str.upper,words))\n",
    "print(upper)"
   ]
  },
  {
   "cell_type": "markdown",
   "id": "7ff333fb-7034-48c4-8909-cefac595e4c5",
   "metadata": {},
   "source": [
    "# filter function\n",
    "* used to filter out itmes from a list based on a condition"
   ]
  },
  {
   "cell_type": "code",
   "execution_count": 69,
   "id": "195ca4b5-94a2-40bc-83fd-37b83e5d0f58",
   "metadata": {},
   "outputs": [
    {
     "data": {
      "text/plain": [
       "(2, 4, 6, 8, 10, 12)"
      ]
     },
     "execution_count": 69,
     "metadata": {},
     "output_type": "execute_result"
    }
   ],
   "source": [
    "def even(x):\n",
    "    if x%2==0:\n",
    "        return True\n",
    "\n",
    "lis=[1,2,3,4,5,6,7,8,9,10,11,12]\n",
    "\n",
    "tuple(filter(even,lis))\n",
    "\n",
    "#only elements which satisfy condition are considered "
   ]
  },
  {
   "cell_type": "code",
   "execution_count": 89,
   "id": "ffa2e81c-459b-4968-baa3-ba8aabdf531c",
   "metadata": {},
   "outputs": [
    {
     "data": {
      "text/plain": [
       "(6, 7, 8, 9, 10, 11, 12)"
      ]
     },
     "execution_count": 89,
     "metadata": {},
     "output_type": "execute_result"
    }
   ],
   "source": [
    "# filter with lambda\n",
    "\n",
    "# filter even numbers\n",
    "# tuple(filter(lambda x:True if x%2==0 else False,lis))  \n",
    "# tuple(filter(lambda x:x%2==0,lis))\n",
    "\n",
    "# filter numbers>5\n",
    "# tuple(filter(lambda x:True if x>5 else False,lis))\n",
    "tuple(filter(lambda x:x>5,lis))"
   ]
  },
  {
   "cell_type": "code",
   "execution_count": 101,
   "id": "8078e9ac-4e9f-4461-89c8-58aa1b9e21ef",
   "metadata": {},
   "outputs": [
    {
     "name": "stdout",
     "output_type": "stream",
     "text": [
      "(6, 8, 10, 12)\n"
     ]
    }
   ],
   "source": [
    "# filter with lambda and multipe comnditions\n",
    "# filter numbers which are even and greater than 5\n",
    "\n",
    "# even_greater=tuple(filter(lambda x:True if x>5 and x%2==0 else False,lis))\n",
    "even_greater=tuple(filter(lambda x:x>5 and x%2==0,lis))\n",
    "print(even_greater)"
   ]
  },
  {
   "cell_type": "code",
   "execution_count": 113,
   "id": "4053a892-f618-430b-b954-f34c944f6756",
   "metadata": {},
   "outputs": [
    {
     "data": {
      "text/plain": [
       "({'name': 'umer', 'age': 20}, {'name': 'amir', 'age': 19})"
      ]
     },
     "execution_count": 113,
     "metadata": {},
     "output_type": "execute_result"
    }
   ],
   "source": [
    "# filter to check if age is greater than 18 in dictionary\n",
    "people=[\n",
    "    {'name':\"umer\",'age':20},\n",
    "      {'name':\"adnan\",'age':18},\n",
    "      {'name':\"amir\",'age':19}\n",
    "]\n",
    "\n",
    "tuple(filter(lambda p:p['age']>18,people))"
   ]
  },
  {
   "cell_type": "markdown",
   "id": "259c07f0-49d0-4c91-bbcf-11d9d05904b4",
   "metadata": {},
   "source": [
    "# practice"
   ]
  },
  {
   "cell_type": "code",
   "execution_count": 16,
   "id": "c8cdfe4f-0ca2-4dda-b541-248072189023",
   "metadata": {},
   "outputs": [
    {
     "data": {
      "text/plain": [
       "[True, True, True, True, False, False, True, True]"
      ]
     },
     "execution_count": 16,
     "metadata": {},
     "output_type": "execute_result"
    }
   ],
   "source": [
    "# element exists uniquely \n",
    "lis=[1,2,3,4,5,5,6,7]\n",
    "\n",
    "list(map(lambda x:lis.count(x)==1,lis))\n"
   ]
  },
  {
   "cell_type": "code",
   "execution_count": 28,
   "id": "9cb95a86-a0c0-475b-93e0-9125adbbf656",
   "metadata": {},
   "outputs": [
    {
     "ename": "SyntaxError",
     "evalue": "cannot assign to lambda (275120404.py, line 5)",
     "output_type": "error",
     "traceback": [
      "\u001b[1;36m  Cell \u001b[1;32mIn[28], line 5\u001b[1;36m\u001b[0m\n\u001b[1;33m    t=lambda x:li2.insert(i,x),i=i-1\u001b[0m\n\u001b[1;37m      ^\u001b[0m\n\u001b[1;31mSyntaxError\u001b[0m\u001b[1;31m:\u001b[0m cannot assign to lambda\n"
     ]
    }
   ],
   "source": [
    "# reverse a list\n",
    "li=[1,2,3,4,5,6,7,8]\n",
    "\n",
    "def rev(a,b):\n",
    "    x=a\n",
    "    a=b\n",
    "    b=x\n",
    "    "
   ]
  },
  {
   "cell_type": "code",
   "execution_count": null,
   "id": "4562779d-7b00-4e35-a72a-1e1a06be028a",
   "metadata": {},
   "outputs": [],
   "source": [
    "\n"
   ]
  },
  {
   "cell_type": "code",
   "execution_count": null,
   "id": "aadedaac-f552-40b0-baa4-ce1777b073e6",
   "metadata": {},
   "outputs": [],
   "source": []
  }
 ],
 "metadata": {
  "kernelspec": {
   "display_name": "Python 3 (ipykernel)",
   "language": "python",
   "name": "python3"
  },
  "language_info": {
   "codemirror_mode": {
    "name": "ipython",
    "version": 3
   },
   "file_extension": ".py",
   "mimetype": "text/x-python",
   "name": "python",
   "nbconvert_exporter": "python",
   "pygments_lexer": "ipython3",
   "version": "3.12.4"
  }
 },
 "nbformat": 4,
 "nbformat_minor": 5
}
