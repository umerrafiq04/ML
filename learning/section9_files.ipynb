{
 "cells": [
  {
   "cell_type": "code",
   "execution_count": 22,
   "metadata": {},
   "outputs": [],
   "source": [
    "with open(\"umer.txt\",\"w\") as file:\n",
    "    file.write(\"Hello, my name is Umer\\nHello, my name is Umer\\nHello, my name is Umer\\nHello, my name is Umer\")\n",
    " \n"
   ]
  },
  {
   "cell_type": "code",
   "execution_count": 25,
   "metadata": {},
   "outputs": [
    {
     "name": "stdout",
     "output_type": "stream",
     "text": [
      "Hello, my name is Umer\n",
      "Hello, my name is Umer\n",
      "Hello, my name is Umer\n",
      "Hello, my name is Umer\n"
     ]
    }
   ],
   "source": [
    "with open(\"umer.txt\",\"r\") as file:\n",
    "    for line in file:\n",
    "        print(line.strip()) #removes new line character"
   ]
  },
  {
   "cell_type": "code",
   "execution_count": 28,
   "metadata": {},
   "outputs": [],
   "source": [
    "with open(\"umer.txt\",\"w\") as file:\n",
    "    file.write(\"Hello, my name is Umer\\nHello, my name is Umer\\nHello, my name is Umer\\nHello, my name is Umer\")\n",
    "    file.write(\"\\nwill it wirte both or only this one\") "
   ]
  },
  {
   "cell_type": "code",
   "execution_count": 29,
   "metadata": {},
   "outputs": [],
   "source": [
    "# writing a list of lines\n",
    "lines=[\"\\nfirst line\\n\",\"first line\\n\",\"first line\\n\",\"first line\\n\",\"first line\\n\"]\n",
    "with open(\"umer.txt\",\"a\") as file:\n",
    "    file.writelines(lines)"
   ]
  },
  {
   "cell_type": "markdown",
   "metadata": {},
   "source": [
    "# BINARY files\n",
    " * abc.bin"
   ]
  },
  {
   "cell_type": "code",
   "execution_count": 34,
   "metadata": {},
   "outputs": [],
   "source": [
    "# <!-- writing to bf -->\n",
    "data=b'\\x00\\x01\\x02\\x03\\x04'\n",
    "with open('bf.bin', 'wb') as f:\n",
    "    f.write(data)"
   ]
  },
  {
   "cell_type": "code",
   "execution_count": 35,
   "metadata": {},
   "outputs": [
    {
     "name": "stdout",
     "output_type": "stream",
     "text": [
      "b'\\x00\\x01\\x02\\x03\\x04'\n"
     ]
    }
   ],
   "source": [
    "with open('bf.bin', 'rb') as f:\n",
    "    print(f.read())"
   ]
  },
  {
   "cell_type": "code",
   "execution_count": null,
   "metadata": {},
   "outputs": [],
   "source": [
    "# Q1:read content from a source file and write it to destination file\n",
    "# Q2:read a file and count no of lines words and chrs"
   ]
  }
 ],
 "metadata": {
  "kernelspec": {
   "display_name": "base",
   "language": "python",
   "name": "python3"
  },
  "language_info": {
   "codemirror_mode": {
    "name": "ipython",
    "version": 3
   },
   "file_extension": ".py",
   "mimetype": "text/x-python",
   "name": "python",
   "nbconvert_exporter": "python",
   "pygments_lexer": "ipython3",
   "version": "3.12.4"
  }
 },
 "nbformat": 4,
 "nbformat_minor": 2
}
