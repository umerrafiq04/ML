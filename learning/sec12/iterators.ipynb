{
 "cells": [
  {
   "cell_type": "markdown",
   "metadata": {},
   "source": [
    "# Iterator\n",
    "* advanced py concepts that allow efficient looping and memory management.helps to iterate sequentially without exposing underlying structure"
   ]
  },
  {
   "cell_type": "code",
   "execution_count": 1,
   "metadata": {},
   "outputs": [
    {
     "name": "stdout",
     "output_type": "stream",
     "text": [
      "<class 'list_iterator'>\n"
     ]
    },
    {
     "data": {
      "text/plain": [
       "<list_iterator at 0x24340fcf0a0>"
      ]
     },
     "execution_count": 1,
     "metadata": {},
     "output_type": "execute_result"
    }
   ],
   "source": [
    "my_list=[1,2,3,4,5,6,7,8]\n",
    "iterator=iter(my_list)\n",
    "print(type(iterator))\n",
    "iterator #inrternally we are not able to see elements"
   ]
  },
  {
   "cell_type": "code",
   "execution_count": 11,
   "metadata": {},
   "outputs": [
    {
     "name": "stdout",
     "output_type": "stream",
     "text": [
      "end reached\n"
     ]
    }
   ],
   "source": [
    "#next helps to iterate,by lazy loading technique\n",
    "try:\n",
    "   print(next(iterator))\n",
    "except:\n",
    "    print(\"end reached\")"
   ]
  },
  {
   "cell_type": "markdown",
   "metadata": {},
   "source": [
    "Generator:"
   ]
  },
  {
   "cell_type": "code",
   "execution_count": 13,
   "metadata": {},
   "outputs": [
    {
     "name": "stdout",
     "output_type": "stream",
     "text": [
      "<generator object square at 0x000002433F4E6E90>\n",
      "0\n",
      "1\n",
      "4\n"
     ]
    }
   ],
   "source": [
    "def square(n):\n",
    "    for i in range(3):\n",
    "        yield i**2\n",
    "\n",
    "print(square(3)) \n",
    "\n",
    "for i in square(3):\n",
    "    print(i)"
   ]
  },
  {
   "cell_type": "code",
   "execution_count": 14,
   "metadata": {},
   "outputs": [],
   "source": [
    "a=square(3)\n"
   ]
  },
  {
   "cell_type": "code",
   "execution_count": 17,
   "metadata": {},
   "outputs": [
    {
     "data": {
      "text/plain": [
       "4"
      ]
     },
     "execution_count": 17,
     "metadata": {},
     "output_type": "execute_result"
    }
   ],
   "source": [
    "next(a)"
   ]
  },
  {
   "cell_type": "code",
   "execution_count": 19,
   "metadata": {},
   "outputs": [],
   "source": [
    "def mygen():\n",
    "    yield 1\n",
    "    yield 2\n",
    "    yield 3"
   ]
  },
  {
   "cell_type": "code",
   "execution_count": 21,
   "metadata": {},
   "outputs": [
    {
     "name": "stdout",
     "output_type": "stream",
     "text": [
      "<function mygen at 0x00000243411A6CA0>\n"
     ]
    }
   ],
   "source": [
    "print(mygen)\n",
    "gen=mygen()"
   ]
  },
  {
   "cell_type": "code",
   "execution_count": 25,
   "metadata": {},
   "outputs": [
    {
     "ename": "StopIteration",
     "evalue": "",
     "output_type": "error",
     "traceback": [
      "\u001b[1;31m---------------------------------------------------------------------------\u001b[0m",
      "\u001b[1;31mStopIteration\u001b[0m                             Traceback (most recent call last)",
      "Cell \u001b[1;32mIn[25], line 1\u001b[0m\n\u001b[1;32m----> 1\u001b[0m \u001b[38;5;28mnext\u001b[39m(gen)\n",
      "\u001b[1;31mStopIteration\u001b[0m: "
     ]
    }
   ],
   "source": [
    "next(gen)"
   ]
  },
  {
   "cell_type": "markdown",
   "metadata": {},
   "source": [
    "Useful for reading large files as they allow to process one line at a time without loading entiren file into memory"
   ]
  },
  {
   "cell_type": "code",
   "execution_count": null,
   "metadata": {},
   "outputs": [],
   "source": []
  },
  {
   "cell_type": "markdown",
   "metadata": {},
   "source": [
    "Decorator\n",
    "* function copy -->\n",
    "* closure -->"
   ]
  },
  {
   "cell_type": "code",
   "execution_count": 14,
   "metadata": {},
   "outputs": [
    {
     "data": {
      "text/plain": [
       "'hello'"
      ]
     },
     "execution_count": 14,
     "metadata": {},
     "output_type": "execute_result"
    }
   ],
   "source": [
    "# copying function\n",
    "def welcome():\n",
    "    return \"hello\"\n",
    "\n",
    "welcome()\n"
   ]
  },
  {
   "cell_type": "code",
   "execution_count": 15,
   "metadata": {},
   "outputs": [
    {
     "data": {
      "text/plain": [
       "'hello'"
      ]
     },
     "execution_count": 15,
     "metadata": {},
     "output_type": "execute_result"
    }
   ],
   "source": [
    "# assigning fun to variable,it will also be fun\n",
    "wel=welcome\n",
    "wel()"
   ]
  },
  {
   "cell_type": "code",
   "execution_count": 16,
   "metadata": {},
   "outputs": [],
   "source": [
    "# deleting parent func\n",
    "del welcome "
   ]
  },
  {
   "cell_type": "code",
   "execution_count": 17,
   "metadata": {},
   "outputs": [
    {
     "data": {
      "text/plain": [
       "'hello'"
      ]
     },
     "execution_count": 17,
     "metadata": {},
     "output_type": "execute_result"
    }
   ],
   "source": [
    "# child func will still work\n",
    "wel()"
   ]
  },
  {
   "cell_type": "markdown",
   "metadata": {},
   "source": [
    "# Closure\n",
    "* func inside func"
   ]
  },
  {
   "cell_type": "code",
   "execution_count": 19,
   "metadata": {},
   "outputs": [
    {
     "name": "stdout",
     "output_type": "stream",
     "text": [
      "welcome to the course\n",
      "please learn these concepts properly\n"
     ]
    }
   ],
   "source": [
    "# legb scope\n",
    "def main_fun():\n",
    "    msg=\"welcome\"\n",
    "    def sub_fun():\n",
    "        print(f\"{msg} to the course\")\n",
    "\n",
    "        print(\"please learn these concepts properly\")\n",
    "    return sub_fun()\n",
    "\n",
    "main_fun()\n"
   ]
  },
  {
   "cell_type": "code",
   "execution_count": 22,
   "metadata": {},
   "outputs": [
    {
     "name": "stdout",
     "output_type": "stream",
     "text": [
      "welcome to the course\n",
      "10\n",
      "please learn these concepts properly\n"
     ]
    }
   ],
   "source": [
    "# passing inbuilt function\n",
    "def main_fun(func):\n",
    "    msg=\"welcome\"\n",
    "    def sub_fun():\n",
    "        print(f\"{msg} to the course\")\n",
    "        # print(func(\"hello bro!\"))\n",
    "        func(\"hello bro!\")\n",
    "        print(\"please learn these concepts properly\")\n",
    "    return sub_fun()\n",
    "\n",
    "main_fun(len)"
   ]
  },
  {
   "cell_type": "code",
   "execution_count": 23,
   "metadata": {},
   "outputs": [
    {
     "name": "stdout",
     "output_type": "stream",
     "text": [
      "welcome to the course\n",
      "6\n",
      "please learn these concepts properly\n"
     ]
    }
   ],
   "source": [
    "def main_fun(func,lst):\n",
    "    msg=\"welcome\"\n",
    "    def sub_fun():\n",
    "        print(f\"{msg} to the course\")\n",
    "        print(func(lst))\n",
    "       \n",
    "        print(\"please learn these concepts properly\")\n",
    "    return sub_fun()\n",
    "\n",
    "main_fun(len,[12,3,4,5,6,7])"
   ]
  },
  {
   "cell_type": "markdown",
   "metadata": {},
   "source": [
    "# Decorator \n",
    "* used to add functionality to a function"
   ]
  },
  {
   "cell_type": "code",
   "execution_count": 35,
   "metadata": {},
   "outputs": [],
   "source": [
    "def main_fun(func):\n",
    "    msg=\"welcome\"\n",
    "    def sub_fun():\n",
    "        print(f\"{msg} to the course\")\n",
    "        # print(func(\"hello bro!\"))\n",
    "        func()\n",
    "        print(\"please learn these concepts properly\")\n",
    "    return sub_fun()\n",
    "\n"
   ]
  },
  {
   "cell_type": "code",
   "execution_count": 30,
   "metadata": {},
   "outputs": [],
   "source": [
    "\n",
    "def course():\n",
    "    print(\"hello this is newly added func\")"
   ]
  },
  {
   "cell_type": "code",
   "execution_count": 31,
   "metadata": {},
   "outputs": [
    {
     "name": "stdout",
     "output_type": "stream",
     "text": [
      "welcome to the course\n",
      "hello this is newly added func\n",
      "please learn these concepts properly\n"
     ]
    }
   ],
   "source": [
    "# without calling this func seperately can i make sure to display its functionality\n",
    "main_fun(course)"
   ]
  },
  {
   "cell_type": "code",
   "execution_count": 36,
   "metadata": {},
   "outputs": [
    {
     "name": "stdout",
     "output_type": "stream",
     "text": [
      "welcome to the course\n",
      "hello this is newly added func\n",
      "please learn these concepts properly\n"
     ]
    }
   ],
   "source": [
    "@main_fun\n",
    "def course():\n",
    "    print(\"hello this is newly added func\")\n",
    "#whenever we write it as decorator: it means its going to pass as a parameter"
   ]
  },
  {
   "cell_type": "code",
   "execution_count": 37,
   "metadata": {},
   "outputs": [],
   "source": [
    "# eg2:\n",
    "def mydeco(func):\n",
    "    def wrapper():\n",
    "        print(\"line1_parent\")\n",
    "        func()\n",
    "        print(\"line2_parent\")\n",
    "    return wrapper"
   ]
  },
  {
   "cell_type": "code",
   "execution_count": 40,
   "metadata": {},
   "outputs": [],
   "source": [
    "@mydeco\n",
    "def new_fun():\n",
    "    print(\"im new!im child!im being passed as a paramter using decorator\")"
   ]
  },
  {
   "cell_type": "code",
   "execution_count": 43,
   "metadata": {},
   "outputs": [
    {
     "name": "stdout",
     "output_type": "stream",
     "text": [
      "line1_parent\n",
      "im new!im child!im being passed as a paramter using decorator\n",
      "line2_parent\n"
     ]
    }
   ],
   "source": [
    "# we will call child as it will get automatically passed as a parameter in parent class mydeco\n",
    "new_fun()"
   ]
  },
  {
   "cell_type": "code",
   "execution_count": 45,
   "metadata": {},
   "outputs": [
    {
     "name": "stdout",
     "output_type": "stream",
     "text": [
      "line1_parent\n",
      "im new!im child!im being passed as a paramter using decorator\n",
      "line2_parent\n"
     ]
    },
    {
     "data": {
      "text/plain": [
       "<function __main__.mydeco.<locals>.wrapper()>"
      ]
     },
     "execution_count": 45,
     "metadata": {},
     "output_type": "execute_result"
    }
   ],
   "source": [
    "# try \n",
    "mydeco(new_fun())"
   ]
  },
  {
   "cell_type": "code",
   "execution_count": 43,
   "metadata": {},
   "outputs": [
    {
     "name": "stdout",
     "output_type": "stream",
     "text": [
      "square of number<function fun_c at 0x0000024341EB4540> is\n",
      "0\n",
      "1\n",
      "4\n",
      "9\n",
      "16\n",
      "25\n",
      "this is end\n"
     ]
    }
   ],
   "source": [
    "def sum(func):\n",
    "    def square():\n",
    "        print(f\"square of number{func} is\")\n",
    "        for i in func():\n",
    "            print(i**2)\n",
    "        print(\"this is end\")\n",
    "    return square\n",
    "\n",
    "@sum\n",
    "def fun_c():\n",
    "    x=[]\n",
    "    for i in range(6):\n",
    "        x.append(i)\n",
    "\n",
    "    return x\n",
    "fun_c()\n"
   ]
  },
  {
   "cell_type": "code",
   "execution_count": 52,
   "metadata": {},
   "outputs": [
    {
     "name": "stdout",
     "output_type": "stream",
     "text": [
      "Min-Heap: [10, 20, 15, 30, 40]\n",
      "After adding 5: [5, 9, 7, 20, 40, 15, 10, 30]\n",
      "After popping the smallest element: 10\n",
      "Heap after pop: [15, 20, 40, 30]\n",
      "Smallest element: 15\n"
     ]
    }
   ],
   "source": [
    "import heapq\n",
    "\n",
    "# Create a list and heapify it\n",
    "data = [10, 20, 15, 30, 40]\n",
    "heapq.heapify(data)\n",
    "\n",
    "print(\"Min-Heap:\", data)  # The smallest element is at the root\n",
    "\n",
    "# Add elements to the heap\n",
    "heapq.heappush(data, 5)\n",
    "heapq.heappush(data, 7)\n",
    "heapq.heappush(data, 9)\n",
    "print(\"After adding 5:\", data)\n",
    "\n",
    "# Remove the smallest element\n",
    "smallest = heapq.heappop(data)\n",
    "smallest = heapq.heappop(data)\n",
    "smallest = heapq.heappop(data)\n",
    "smallest = heapq.heappop(data)\n",
    "print(\"After popping the smallest element:\", smallest)\n",
    "print(\"Heap after pop:\", data)\n",
    "\n",
    "# Access the smallest element without popping\n",
    "print(\"Smallest element:\", data[0])\n"
   ]
  }
 ],
 "metadata": {
  "kernelspec": {
   "display_name": "base",
   "language": "python",
   "name": "python3"
  },
  "language_info": {
   "codemirror_mode": {
    "name": "ipython",
    "version": 3
   },
   "file_extension": ".py",
   "mimetype": "text/x-python",
   "name": "python",
   "nbconvert_exporter": "python",
   "pygments_lexer": "ipython3",
   "version": "3.12.4"
  }
 },
 "nbformat": 4,
 "nbformat_minor": 2
}
