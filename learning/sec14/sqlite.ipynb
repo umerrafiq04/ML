{
 "cells": [
  {
   "cell_type": "code",
   "execution_count": 7,
   "metadata": {},
   "outputs": [],
   "source": [
    "import sqlite3"
   ]
  },
  {
   "cell_type": "code",
   "execution_count": 8,
   "metadata": {},
   "outputs": [
    {
     "data": {
      "text/plain": [
       "<sqlite3.Connection at 0x2d358e1a7a0>"
      ]
     },
     "execution_count": 8,
     "metadata": {},
     "output_type": "execute_result"
    }
   ],
   "source": [
    "# connect to an sqlite db :create db\n",
    "connection=sqlite3.connect(\"ex.db\")\n",
    "connection"
   ]
  },
  {
   "cell_type": "code",
   "execution_count": 9,
   "metadata": {},
   "outputs": [],
   "source": [
    "cursor=connection.cursor()\n"
   ]
  },
  {
   "cell_type": "code",
   "execution_count": 16,
   "metadata": {},
   "outputs": [],
   "source": [
    "# create table\n",
    "cursor.execute('''\n",
    "    create table if not exists umer3(id INTEGER PRIMARY KEY,name TEXT NOT NULL,email TEXT UNIQUE,age INTEGER)\n",
    "''')\n",
    "connection.commit()"
   ]
  },
  {
   "cell_type": "code",
   "execution_count": 17,
   "metadata": {},
   "outputs": [],
   "source": [
    "cursor.execute('''\n",
    "    Insert Into umer3(name,email,age) values (\"umer\",\"abcd@gmail.com\",15)\n",
    "''')\n",
    "cursor.execute('''\n",
    "    Insert Into umer3(name,email,age) values (\"umer2\",\"abcde@gmail.com\",16)\n",
    "''')\n",
    "cursor.execute('''\n",
    "    Insert Into umer3(name,email,age) values (\"umer3\",\"abce@gmail.com\",17)\n",
    "''')\n",
    "connection.commit()"
   ]
  },
  {
   "cell_type": "code",
   "execution_count": null,
   "metadata": {},
   "outputs": [],
   "source": []
  },
  {
   "cell_type": "code",
   "execution_count": 18,
   "metadata": {},
   "outputs": [
    {
     "name": "stdout",
     "output_type": "stream",
     "text": [
      "(1, 'umer', 'abcd@gmail.com', 15)\n",
      "(2, 'umer2', 'abcde@gmail.com', 16)\n",
      "(3, 'umer3', 'abce@gmail.com', 17)\n"
     ]
    }
   ],
   "source": [
    "# quering data from the table\n",
    "cursor.execute('''select* from umer3''')\n",
    "rows=cursor.fetchall()\n",
    "# print quered data\n",
    "for row in rows:\n",
    "    print(row)\n"
   ]
  },
  {
   "cell_type": "markdown",
   "metadata": {},
   "source": [
    "update data in the table"
   ]
  },
  {
   "cell_type": "code",
   "execution_count": 19,
   "metadata": {},
   "outputs": [
    {
     "data": {
      "text/plain": [
       "<sqlite3.Cursor at 0x2d358e68240>"
      ]
     },
     "execution_count": 19,
     "metadata": {},
     "output_type": "execute_result"
    }
   ],
   "source": [
    "cursor.execute('''\n",
    "update umer3 set age=34 where name=\"umer2\"\n",
    "''')"
   ]
  },
  {
   "cell_type": "code",
   "execution_count": 20,
   "metadata": {},
   "outputs": [
    {
     "name": "stdout",
     "output_type": "stream",
     "text": [
      "(1, 'umer', 'abcd@gmail.com', 15)\n",
      "(2, 'umer2', 'abcde@gmail.com', 34)\n",
      "(3, 'umer3', 'abce@gmail.com', 17)\n"
     ]
    }
   ],
   "source": [
    "# quering data from the table\n",
    "cursor.execute('''select* from umer3''')\n",
    "rows=cursor.fetchall()\n",
    "# print quered data\n",
    "for row in rows:\n",
    "    print(row)"
   ]
  },
  {
   "cell_type": "code",
   "execution_count": 22,
   "metadata": {},
   "outputs": [
    {
     "data": {
      "text/plain": [
       "<sqlite3.Cursor at 0x2d358e68240>"
      ]
     },
     "execution_count": 22,
     "metadata": {},
     "output_type": "execute_result"
    }
   ],
   "source": [
    "# deleting data from the table\n",
    "cursor.execute('''\n",
    "delete from umer3 where name=\"umer3\"\n",
    "''')"
   ]
  },
  {
   "cell_type": "code",
   "execution_count": 23,
   "metadata": {},
   "outputs": [
    {
     "name": "stdout",
     "output_type": "stream",
     "text": [
      "(1, 'umer', 'abcd@gmail.com', 15)\n",
      "(2, 'umer2', 'abcde@gmail.com', 34)\n"
     ]
    }
   ],
   "source": [
    "# quering data from the table\n",
    "cursor.execute('''select* from umer3''')\n",
    "rows=cursor.fetchall()\n",
    "# print quered data\n",
    "for row in rows:\n",
    "    print(row)"
   ]
  },
  {
   "cell_type": "markdown",
   "metadata": {},
   "source": [
    "Project"
   ]
  },
  {
   "cell_type": "code",
   "execution_count": 24,
   "metadata": {},
   "outputs": [
    {
     "data": {
      "text/plain": [
       "<sqlite3.Connection at 0x2d358f195d0>"
      ]
     },
     "execution_count": 24,
     "metadata": {},
     "output_type": "execute_result"
    }
   ],
   "source": [
    "connection=sqlite3.connect(\"sales.db\")\n",
    "connection"
   ]
  },
  {
   "cell_type": "code",
   "execution_count": 25,
   "metadata": {},
   "outputs": [],
   "source": [
    "cursor=connection.cursor()\n",
    "cursor.execute('''\n",
    "    create table if not exists umer3(id INTEGER PRIMARY KEY,name TEXT NOT NULL,email TEXT UNIQUE,age INTEGER)\n",
    "''')\n",
    "connection.commit()"
   ]
  },
  {
   "cell_type": "code",
   "execution_count": 27,
   "metadata": {},
   "outputs": [
    {
     "data": {
      "text/plain": [
       "<sqlite3.Cursor at 0x2d358f255c0>"
      ]
     },
     "execution_count": 27,
     "metadata": {},
     "output_type": "execute_result"
    }
   ],
   "source": [
    "cursor.execute('''\n",
    "create table if not exists sale(id integer primary key,product TEXT NOT NULL,sales INTEGER, region TEXT)\n",
    "''')"
   ]
  },
  {
   "cell_type": "code",
   "execution_count": 32,
   "metadata": {},
   "outputs": [],
   "source": [
    "sales_data=[\n",
    "    (\"apple\",2000,\"north\"),\n",
    "    (\"banana\",3000,\"east\"),\n",
    "    (\"mango\",2400,\"west\"),\n",
    "    (\"carrot\",1000,\"all\"),\n",
    "    (\"turnip\",3000,\"west_east\"),\n",
    "    (\"almond\",450,\"north\"),\n",
    "    (\"pineapppe\",4000,\"south\")\n",
    "]"
   ]
  },
  {
   "cell_type": "code",
   "execution_count": 33,
   "metadata": {},
   "outputs": [],
   "source": [
    "cursor.executemany('''\n",
    "insert into sale(product,sales,region) values(?,?,?)\n",
    "''',sales_data)\n",
    "connection.commit()"
   ]
  },
  {
   "cell_type": "code",
   "execution_count": 34,
   "metadata": {},
   "outputs": [
    {
     "name": "stdout",
     "output_type": "stream",
     "text": [
      "(1, 'apple', 2000, 'north')\n",
      "(2, 'banana', 3000, 'east')\n",
      "(3, 'mango', 2400, 'west')\n",
      "(4, 'carrot', 1000, 'all')\n",
      "(5, 'turnip', 3000, 'west_east')\n",
      "(6, 'almond', 450, 'north')\n",
      "(7, 'pineapppe', 4000, 'south')\n"
     ]
    }
   ],
   "source": [
    "cursor.execute('select * from sale')\n",
    "lines=cursor.fetchall()\n",
    "for line in lines:\n",
    "    print(line)\n",
    "connection.commit()\n"
   ]
  },
  {
   "cell_type": "code",
   "execution_count": 35,
   "metadata": {},
   "outputs": [],
   "source": [
    "# close the connection permananelty\n",
    "connection.close()\n",
    "# cant access db anymore"
   ]
  },
  {
   "cell_type": "code",
   "execution_count": null,
   "metadata": {},
   "outputs": [],
   "source": []
  }
 ],
 "metadata": {
  "kernelspec": {
   "display_name": "base",
   "language": "python",
   "name": "python3"
  },
  "language_info": {
   "codemirror_mode": {
    "name": "ipython",
    "version": 3
   },
   "file_extension": ".py",
   "mimetype": "text/x-python",
   "name": "python",
   "nbconvert_exporter": "python",
   "pygments_lexer": "ipython3",
   "version": "3.12.4"
  }
 },
 "nbformat": 4,
 "nbformat_minor": 2
}
