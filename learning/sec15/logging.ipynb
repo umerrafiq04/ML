{
 "cells": [
  {
   "cell_type": "markdown",
   "metadata": {},
   "source": [
    "Logging"
   ]
  },
  {
   "cell_type": "code",
   "execution_count": 1,
   "metadata": {},
   "outputs": [],
   "source": [
    "import logging"
   ]
  },
  {
   "cell_type": "code",
   "execution_count": 2,
   "metadata": {},
   "outputs": [
    {
     "name": "stderr",
     "output_type": "stream",
     "text": [
      "DEBUG:root:this is debug msg\n",
      "INFO:root:this is info msg\n",
      "WARNING:root:this is warnining msg\n",
      "ERROR:root:this is error msg\n",
      "CRITICAL:root:this is critical msg\n"
     ]
    }
   ],
   "source": [
    "# configure the basic loggingn settings\n",
    "logging.basicConfig(level=logging.DEBUG)\n",
    "# Log msg\n",
    "logging.debug(\"this is debug msg\")\n",
    "logging.info(\"this is info msg\")\n",
    "logging.warning(\"this is warnining msg\")\n",
    "logging.error(\"this is error msg\")\n",
    "logging.critical(\"this is critical msg\")"
   ]
  },
  {
   "cell_type": "code",
   "execution_count": null,
   "metadata": {},
   "outputs": [],
   "source": []
  }
 ],
 "metadata": {
  "kernelspec": {
   "display_name": "base",
   "language": "python",
   "name": "python3"
  },
  "language_info": {
   "codemirror_mode": {
    "name": "ipython",
    "version": 3
   },
   "file_extension": ".py",
   "mimetype": "text/x-python",
   "name": "python",
   "nbconvert_exporter": "python",
   "pygments_lexer": "ipython3",
   "version": "3.12.4"
  }
 },
 "nbformat": 4,
 "nbformat_minor": 2
}
